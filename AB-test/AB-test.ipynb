{
 "cells": [
  {
   "cell_type": "markdown",
   "id": "fd30d25a",
   "metadata": {},
   "source": [
    "# Описание проекта\n",
    "\n",
    "Задачи: \n",
    "- проанализировать гипотезы по увеличению выручки интернет-магазина\n",
    "- выделить рекомендации по результатам проведения А/В-теста для выбранных гипотез\n",
    "\n",
    "## План исследования\n",
    "\n",
    "- Приоритизировать гипотезы\n",
    "- Предобработка данных \n",
    "- Визуализация кумулятивных метрик для анализа результатов теста\n",
    "- Поиск аномальных значений\n",
    "- Расчет статистической значимости на сырых данных\n",
    "- Удаление аномальных значений\n",
    "- Расчет статистической значимости для чистых данных\n",
    "- Вывод и рекомендации"
   ]
  },
  {
   "cell_type": "markdown",
   "id": "2a30f524",
   "metadata": {},
   "source": [
    "# Приоритизация гипотез"
   ]
  },
  {
   "cell_type": "markdown",
   "id": "27d907c5",
   "metadata": {},
   "source": [
    "### Открываем данные и изучаем информацию"
   ]
  },
  {
   "cell_type": "code",
   "execution_count": 1,
   "id": "f6c63e0f",
   "metadata": {},
   "outputs": [],
   "source": [
    "#Импортируем библиотеки\n",
    "import pandas as pd\n",
    "import datetime as dt\n",
    "import numpy as np\n",
    "import matplotlib.pyplot as plt"
   ]
  },
  {
   "cell_type": "code",
   "execution_count": 2,
   "id": "e98e0dd9",
   "metadata": {},
   "outputs": [],
   "source": [
    "#Загружаем таблицу с данными\n",
    "try:\n",
    "    data = pd.read_csv('hypothesis.csv')\n",
    "except:\n",
    "    data = pd.read_csv('/datasets/hypothesis.csv')"
   ]
  },
  {
   "cell_type": "code",
   "execution_count": 3,
   "id": "69a567ec",
   "metadata": {},
   "outputs": [
    {
     "name": "stdout",
     "output_type": "stream",
     "text": [
      "<class 'pandas.core.frame.DataFrame'>\n",
      "RangeIndex: 9 entries, 0 to 8\n",
      "Data columns (total 5 columns):\n",
      " #   Column      Non-Null Count  Dtype \n",
      "---  ------      --------------  ----- \n",
      " 0   Hypothesis  9 non-null      object\n",
      " 1   Reach       9 non-null      int64 \n",
      " 2   Impact      9 non-null      int64 \n",
      " 3   Confidence  9 non-null      int64 \n",
      " 4   Efforts     9 non-null      int64 \n",
      "dtypes: int64(4), object(1)\n",
      "memory usage: 488.0+ bytes\n"
     ]
    }
   ],
   "source": [
    "#Смотрим информацию по датасету\n",
    "data.info()"
   ]
  },
  {
   "cell_type": "code",
   "execution_count": 4,
   "id": "21f299fd",
   "metadata": {},
   "outputs": [
    {
     "data": {
      "text/html": [
       "<div>\n",
       "<style scoped>\n",
       "    .dataframe tbody tr th:only-of-type {\n",
       "        vertical-align: middle;\n",
       "    }\n",
       "\n",
       "    .dataframe tbody tr th {\n",
       "        vertical-align: top;\n",
       "    }\n",
       "\n",
       "    .dataframe thead th {\n",
       "        text-align: right;\n",
       "    }\n",
       "</style>\n",
       "<table border=\"1\" class=\"dataframe\">\n",
       "  <thead>\n",
       "    <tr style=\"text-align: right;\">\n",
       "      <th></th>\n",
       "      <th>hypothesis</th>\n",
       "      <th>reach</th>\n",
       "      <th>impact</th>\n",
       "      <th>confidence</th>\n",
       "      <th>efforts</th>\n",
       "    </tr>\n",
       "  </thead>\n",
       "  <tbody>\n",
       "    <tr>\n",
       "      <th>0</th>\n",
       "      <td>Добавить два новых канала привлечения трафика, что позволит привлекать на 30% больше пользователей</td>\n",
       "      <td>3</td>\n",
       "      <td>10</td>\n",
       "      <td>8</td>\n",
       "      <td>6</td>\n",
       "    </tr>\n",
       "    <tr>\n",
       "      <th>1</th>\n",
       "      <td>Запустить собственную службу доставки, что сократит срок доставки заказов</td>\n",
       "      <td>2</td>\n",
       "      <td>5</td>\n",
       "      <td>4</td>\n",
       "      <td>10</td>\n",
       "    </tr>\n",
       "    <tr>\n",
       "      <th>2</th>\n",
       "      <td>Добавить блоки рекомендаций товаров на сайт интернет магазина, чтобы повысить конверсию и средний чек заказа</td>\n",
       "      <td>8</td>\n",
       "      <td>3</td>\n",
       "      <td>7</td>\n",
       "      <td>3</td>\n",
       "    </tr>\n",
       "    <tr>\n",
       "      <th>3</th>\n",
       "      <td>Изменить структура категорий, что увеличит конверсию, т.к. пользователи быстрее найдут нужный товар</td>\n",
       "      <td>8</td>\n",
       "      <td>3</td>\n",
       "      <td>3</td>\n",
       "      <td>8</td>\n",
       "    </tr>\n",
       "    <tr>\n",
       "      <th>4</th>\n",
       "      <td>Изменить цвет фона главной страницы, чтобы увеличить вовлеченность пользователей</td>\n",
       "      <td>3</td>\n",
       "      <td>1</td>\n",
       "      <td>1</td>\n",
       "      <td>1</td>\n",
       "    </tr>\n",
       "    <tr>\n",
       "      <th>5</th>\n",
       "      <td>Добавить страницу отзывов клиентов о магазине, что позволит увеличить количество заказов</td>\n",
       "      <td>3</td>\n",
       "      <td>2</td>\n",
       "      <td>2</td>\n",
       "      <td>3</td>\n",
       "    </tr>\n",
       "    <tr>\n",
       "      <th>6</th>\n",
       "      <td>Показать на главной странице баннеры с актуальными акциями и распродажами, чтобы увеличить конверсию</td>\n",
       "      <td>5</td>\n",
       "      <td>3</td>\n",
       "      <td>8</td>\n",
       "      <td>3</td>\n",
       "    </tr>\n",
       "    <tr>\n",
       "      <th>7</th>\n",
       "      <td>Добавить форму подписки на все основные страницы, чтобы собрать базу клиентов для email-рассылок</td>\n",
       "      <td>10</td>\n",
       "      <td>7</td>\n",
       "      <td>8</td>\n",
       "      <td>5</td>\n",
       "    </tr>\n",
       "    <tr>\n",
       "      <th>8</th>\n",
       "      <td>Запустить акцию, дающую скидку на товар в день рождения</td>\n",
       "      <td>1</td>\n",
       "      <td>9</td>\n",
       "      <td>9</td>\n",
       "      <td>5</td>\n",
       "    </tr>\n",
       "  </tbody>\n",
       "</table>\n",
       "</div>"
      ],
      "text/plain": [
       "                                                                                                     hypothesis  \\\n",
       "0            Добавить два новых канала привлечения трафика, что позволит привлекать на 30% больше пользователей   \n",
       "1                                     Запустить собственную службу доставки, что сократит срок доставки заказов   \n",
       "2  Добавить блоки рекомендаций товаров на сайт интернет магазина, чтобы повысить конверсию и средний чек заказа   \n",
       "3           Изменить структура категорий, что увеличит конверсию, т.к. пользователи быстрее найдут нужный товар   \n",
       "4                              Изменить цвет фона главной страницы, чтобы увеличить вовлеченность пользователей   \n",
       "5                      Добавить страницу отзывов клиентов о магазине, что позволит увеличить количество заказов   \n",
       "6          Показать на главной странице баннеры с актуальными акциями и распродажами, чтобы увеличить конверсию   \n",
       "7              Добавить форму подписки на все основные страницы, чтобы собрать базу клиентов для email-рассылок   \n",
       "8                                                       Запустить акцию, дающую скидку на товар в день рождения   \n",
       "\n",
       "   reach  impact  confidence  efforts  \n",
       "0      3      10           8        6  \n",
       "1      2       5           4       10  \n",
       "2      8       3           7        3  \n",
       "3      8       3           3        8  \n",
       "4      3       1           1        1  \n",
       "5      3       2           2        3  \n",
       "6      5       3           8        3  \n",
       "7     10       7           8        5  \n",
       "8      1       9           9        5  "
      ]
     },
     "execution_count": 4,
     "metadata": {},
     "output_type": "execute_result"
    }
   ],
   "source": [
    "data.columns = ['hypothesis', 'reach', 'impact', 'confidence', 'efforts']\n",
    "pd.options.display.max_colwidth = 130\n",
    "data"
   ]
  },
  {
   "cell_type": "code",
   "execution_count": 5,
   "id": "3fb263e9",
   "metadata": {},
   "outputs": [
    {
     "data": {
      "text/html": [
       "<div>\n",
       "<style scoped>\n",
       "    .dataframe tbody tr th:only-of-type {\n",
       "        vertical-align: middle;\n",
       "    }\n",
       "\n",
       "    .dataframe tbody tr th {\n",
       "        vertical-align: top;\n",
       "    }\n",
       "\n",
       "    .dataframe thead th {\n",
       "        text-align: right;\n",
       "    }\n",
       "</style>\n",
       "<table border=\"1\" class=\"dataframe\">\n",
       "  <thead>\n",
       "    <tr style=\"text-align: right;\">\n",
       "      <th></th>\n",
       "      <th>hypothesis</th>\n",
       "      <th>ICE</th>\n",
       "    </tr>\n",
       "  </thead>\n",
       "  <tbody>\n",
       "    <tr>\n",
       "      <th>8</th>\n",
       "      <td>Запустить акцию, дающую скидку на товар в день рождения</td>\n",
       "      <td>16.20</td>\n",
       "    </tr>\n",
       "    <tr>\n",
       "      <th>0</th>\n",
       "      <td>Добавить два новых канала привлечения трафика, что позволит привлекать на 30% больше пользователей</td>\n",
       "      <td>13.33</td>\n",
       "    </tr>\n",
       "    <tr>\n",
       "      <th>7</th>\n",
       "      <td>Добавить форму подписки на все основные страницы, чтобы собрать базу клиентов для email-рассылок</td>\n",
       "      <td>11.20</td>\n",
       "    </tr>\n",
       "    <tr>\n",
       "      <th>6</th>\n",
       "      <td>Показать на главной странице баннеры с актуальными акциями и распродажами, чтобы увеличить конверсию</td>\n",
       "      <td>8.00</td>\n",
       "    </tr>\n",
       "    <tr>\n",
       "      <th>2</th>\n",
       "      <td>Добавить блоки рекомендаций товаров на сайт интернет магазина, чтобы повысить конверсию и средний чек заказа</td>\n",
       "      <td>7.00</td>\n",
       "    </tr>\n",
       "    <tr>\n",
       "      <th>1</th>\n",
       "      <td>Запустить собственную службу доставки, что сократит срок доставки заказов</td>\n",
       "      <td>2.00</td>\n",
       "    </tr>\n",
       "    <tr>\n",
       "      <th>5</th>\n",
       "      <td>Добавить страницу отзывов клиентов о магазине, что позволит увеличить количество заказов</td>\n",
       "      <td>1.33</td>\n",
       "    </tr>\n",
       "    <tr>\n",
       "      <th>3</th>\n",
       "      <td>Изменить структура категорий, что увеличит конверсию, т.к. пользователи быстрее найдут нужный товар</td>\n",
       "      <td>1.12</td>\n",
       "    </tr>\n",
       "    <tr>\n",
       "      <th>4</th>\n",
       "      <td>Изменить цвет фона главной страницы, чтобы увеличить вовлеченность пользователей</td>\n",
       "      <td>1.00</td>\n",
       "    </tr>\n",
       "  </tbody>\n",
       "</table>\n",
       "</div>"
      ],
      "text/plain": [
       "                                                                                                     hypothesis  \\\n",
       "8                                                       Запустить акцию, дающую скидку на товар в день рождения   \n",
       "0            Добавить два новых канала привлечения трафика, что позволит привлекать на 30% больше пользователей   \n",
       "7              Добавить форму подписки на все основные страницы, чтобы собрать базу клиентов для email-рассылок   \n",
       "6          Показать на главной странице баннеры с актуальными акциями и распродажами, чтобы увеличить конверсию   \n",
       "2  Добавить блоки рекомендаций товаров на сайт интернет магазина, чтобы повысить конверсию и средний чек заказа   \n",
       "1                                     Запустить собственную службу доставки, что сократит срок доставки заказов   \n",
       "5                      Добавить страницу отзывов клиентов о магазине, что позволит увеличить количество заказов   \n",
       "3           Изменить структура категорий, что увеличит конверсию, т.к. пользователи быстрее найдут нужный товар   \n",
       "4                              Изменить цвет фона главной страницы, чтобы увеличить вовлеченность пользователей   \n",
       "\n",
       "     ICE  \n",
       "8  16.20  \n",
       "0  13.33  \n",
       "7  11.20  \n",
       "6   8.00  \n",
       "2   7.00  \n",
       "1   2.00  \n",
       "5   1.33  \n",
       "3   1.12  \n",
       "4   1.00  "
      ]
     },
     "execution_count": 5,
     "metadata": {},
     "output_type": "execute_result"
    }
   ],
   "source": [
    "data['ICE'] = data['impact'] * data['confidence'] / data['efforts']\n",
    "data_ice = data.sort_values(by='ICE', ascending=False)\n",
    "data_ice['ICE'] = data_ice['ICE'].round(2)\n",
    "data_ice[['hypothesis', 'ICE']]"
   ]
  },
  {
   "cell_type": "markdown",
   "id": "ea148e67",
   "metadata": {},
   "source": [
    "Согласно этому методу приоритизации самыми перспективными гипотезами являются (в порядке убывания приоритета):\n",
    "1. Запустить акцию, дающую скидку на товар в день рождения\t\n",
    "2. Добавить два новых канала привлечения трафика, что позволит привлекать на 30% больше пользователей\n",
    "3. Добавить форму подписки на все основные страницы, чтобы собрать базу клиентов для email-рассылок\n",
    "4. Показать на главной странице баннеры с актуальными акциями и распродажами, чтобы увеличить конверсию\t\n",
    "5. Добавить блоки рекомендаций товаров на сайт интернет магазина, чтобы повысить конверсию и средний чек заказа"
   ]
  },
  {
   "cell_type": "code",
   "execution_count": 6,
   "id": "8ee3fcf8",
   "metadata": {},
   "outputs": [
    {
     "data": {
      "text/html": [
       "<div>\n",
       "<style scoped>\n",
       "    .dataframe tbody tr th:only-of-type {\n",
       "        vertical-align: middle;\n",
       "    }\n",
       "\n",
       "    .dataframe tbody tr th {\n",
       "        vertical-align: top;\n",
       "    }\n",
       "\n",
       "    .dataframe thead th {\n",
       "        text-align: right;\n",
       "    }\n",
       "</style>\n",
       "<table border=\"1\" class=\"dataframe\">\n",
       "  <thead>\n",
       "    <tr style=\"text-align: right;\">\n",
       "      <th></th>\n",
       "      <th>hypothesis</th>\n",
       "      <th>RICE</th>\n",
       "    </tr>\n",
       "  </thead>\n",
       "  <tbody>\n",
       "    <tr>\n",
       "      <th>7</th>\n",
       "      <td>Добавить форму подписки на все основные страницы, чтобы собрать базу клиентов для email-рассылок</td>\n",
       "      <td>112.0</td>\n",
       "    </tr>\n",
       "    <tr>\n",
       "      <th>2</th>\n",
       "      <td>Добавить блоки рекомендаций товаров на сайт интернет магазина, чтобы повысить конверсию и средний чек заказа</td>\n",
       "      <td>56.0</td>\n",
       "    </tr>\n",
       "    <tr>\n",
       "      <th>0</th>\n",
       "      <td>Добавить два новых канала привлечения трафика, что позволит привлекать на 30% больше пользователей</td>\n",
       "      <td>40.0</td>\n",
       "    </tr>\n",
       "    <tr>\n",
       "      <th>6</th>\n",
       "      <td>Показать на главной странице баннеры с актуальными акциями и распродажами, чтобы увеличить конверсию</td>\n",
       "      <td>40.0</td>\n",
       "    </tr>\n",
       "    <tr>\n",
       "      <th>8</th>\n",
       "      <td>Запустить акцию, дающую скидку на товар в день рождения</td>\n",
       "      <td>16.2</td>\n",
       "    </tr>\n",
       "    <tr>\n",
       "      <th>3</th>\n",
       "      <td>Изменить структура категорий, что увеличит конверсию, т.к. пользователи быстрее найдут нужный товар</td>\n",
       "      <td>9.0</td>\n",
       "    </tr>\n",
       "    <tr>\n",
       "      <th>1</th>\n",
       "      <td>Запустить собственную службу доставки, что сократит срок доставки заказов</td>\n",
       "      <td>4.0</td>\n",
       "    </tr>\n",
       "    <tr>\n",
       "      <th>5</th>\n",
       "      <td>Добавить страницу отзывов клиентов о магазине, что позволит увеличить количество заказов</td>\n",
       "      <td>4.0</td>\n",
       "    </tr>\n",
       "    <tr>\n",
       "      <th>4</th>\n",
       "      <td>Изменить цвет фона главной страницы, чтобы увеличить вовлеченность пользователей</td>\n",
       "      <td>3.0</td>\n",
       "    </tr>\n",
       "  </tbody>\n",
       "</table>\n",
       "</div>"
      ],
      "text/plain": [
       "                                                                                                     hypothesis  \\\n",
       "7              Добавить форму подписки на все основные страницы, чтобы собрать базу клиентов для email-рассылок   \n",
       "2  Добавить блоки рекомендаций товаров на сайт интернет магазина, чтобы повысить конверсию и средний чек заказа   \n",
       "0            Добавить два новых канала привлечения трафика, что позволит привлекать на 30% больше пользователей   \n",
       "6          Показать на главной странице баннеры с актуальными акциями и распродажами, чтобы увеличить конверсию   \n",
       "8                                                       Запустить акцию, дающую скидку на товар в день рождения   \n",
       "3           Изменить структура категорий, что увеличит конверсию, т.к. пользователи быстрее найдут нужный товар   \n",
       "1                                     Запустить собственную службу доставки, что сократит срок доставки заказов   \n",
       "5                      Добавить страницу отзывов клиентов о магазине, что позволит увеличить количество заказов   \n",
       "4                              Изменить цвет фона главной страницы, чтобы увеличить вовлеченность пользователей   \n",
       "\n",
       "    RICE  \n",
       "7  112.0  \n",
       "2   56.0  \n",
       "0   40.0  \n",
       "6   40.0  \n",
       "8   16.2  \n",
       "3    9.0  \n",
       "1    4.0  \n",
       "5    4.0  \n",
       "4    3.0  "
      ]
     },
     "execution_count": 6,
     "metadata": {},
     "output_type": "execute_result"
    }
   ],
   "source": [
    "data['RICE'] = data['reach'] * data['impact'] * data['confidence'] / data['efforts']\n",
    "data_rice = data.sort_values(by='RICE', ascending=False)\n",
    "data_rice[['hypothesis', 'RICE']]"
   ]
  },
  {
   "cell_type": "markdown",
   "id": "31be707e",
   "metadata": {},
   "source": [
    "Используя метод RICE, мы выявили, что наиболее важными гипотезами нужно считать:\n",
    "1. Добавить форму подписки на все основные страницы, чтобы собрать базу клиентов для email-рассылок\n",
    "2. Добавить блоки рекомендаций товаров на сайт интернет магазина, чтобы повысить конверсию и средний чек заказа\n",
    "3. Добавить два новых канала привлечения трафика, что позволит привлекать на 30% больше пользователей\n",
    "4. Показать на главной странице баннеры с актуальными акциями и распродажами, чтобы увеличить конверсию\n",
    "5. Запустить акцию, дающую скидку на товар в день рождения\t\n",
    "\n",
    "То есть те же, что и по методу ICE, но в ином порядке. Так получилось, потому что у первой в этом списке гипотезы  максимальный охват (Reach), а у последней в списке, наоборот, минимальный."
   ]
  },
  {
   "cell_type": "markdown",
   "id": "755f1d17",
   "metadata": {},
   "source": [
    "# Анализ результатов А/В теста"
   ]
  },
  {
   "cell_type": "markdown",
   "id": "c8e3d7a1",
   "metadata": {},
   "source": [
    "## Предобработка данных"
   ]
  },
  {
   "cell_type": "code",
   "execution_count": 7,
   "id": "1eb92655",
   "metadata": {},
   "outputs": [],
   "source": [
    "try:\n",
    "    orders = pd.read_csv('orders.csv')\n",
    "    visitors = pd.read_csv('visitors.csv')\n",
    "except:\n",
    "    orders = pd.read_csv('/datasets/orders.csv')\n",
    "    visitors = pd.read_csv('/datasets/visitors.csv')"
   ]
  },
  {
   "cell_type": "code",
   "execution_count": 8,
   "id": "2a2d29d3",
   "metadata": {},
   "outputs": [
    {
     "name": "stdout",
     "output_type": "stream",
     "text": [
      "<class 'pandas.core.frame.DataFrame'>\n",
      "RangeIndex: 1197 entries, 0 to 1196\n",
      "Data columns (total 5 columns):\n",
      " #   Column         Non-Null Count  Dtype \n",
      "---  ------         --------------  ----- \n",
      " 0   transactionId  1197 non-null   int64 \n",
      " 1   visitorId      1197 non-null   int64 \n",
      " 2   date           1197 non-null   object\n",
      " 3   revenue        1197 non-null   int64 \n",
      " 4   group          1197 non-null   object\n",
      "dtypes: int64(3), object(2)\n",
      "memory usage: 46.9+ KB\n"
     ]
    }
   ],
   "source": [
    "orders.info()"
   ]
  },
  {
   "cell_type": "code",
   "execution_count": 9,
   "id": "22236289",
   "metadata": {},
   "outputs": [
    {
     "name": "stdout",
     "output_type": "stream",
     "text": [
      "<class 'pandas.core.frame.DataFrame'>\n",
      "RangeIndex: 62 entries, 0 to 61\n",
      "Data columns (total 3 columns):\n",
      " #   Column    Non-Null Count  Dtype \n",
      "---  ------    --------------  ----- \n",
      " 0   date      62 non-null     object\n",
      " 1   group     62 non-null     object\n",
      " 2   visitors  62 non-null     int64 \n",
      "dtypes: int64(1), object(2)\n",
      "memory usage: 1.6+ KB\n"
     ]
    }
   ],
   "source": [
    "visitors.info()"
   ]
  },
  {
   "cell_type": "code",
   "execution_count": 10,
   "id": "01a836c7",
   "metadata": {},
   "outputs": [
    {
     "data": {
      "text/html": [
       "<div>\n",
       "<style scoped>\n",
       "    .dataframe tbody tr th:only-of-type {\n",
       "        vertical-align: middle;\n",
       "    }\n",
       "\n",
       "    .dataframe tbody tr th {\n",
       "        vertical-align: top;\n",
       "    }\n",
       "\n",
       "    .dataframe thead th {\n",
       "        text-align: right;\n",
       "    }\n",
       "</style>\n",
       "<table border=\"1\" class=\"dataframe\">\n",
       "  <thead>\n",
       "    <tr style=\"text-align: right;\">\n",
       "      <th></th>\n",
       "      <th>transaction_id</th>\n",
       "      <th>visitor_id</th>\n",
       "      <th>date</th>\n",
       "      <th>revenue</th>\n",
       "      <th>group</th>\n",
       "    </tr>\n",
       "  </thead>\n",
       "  <tbody>\n",
       "    <tr>\n",
       "      <th>0</th>\n",
       "      <td>3667963787</td>\n",
       "      <td>3312258926</td>\n",
       "      <td>2019-08-15</td>\n",
       "      <td>1650</td>\n",
       "      <td>B</td>\n",
       "    </tr>\n",
       "    <tr>\n",
       "      <th>1</th>\n",
       "      <td>2804400009</td>\n",
       "      <td>3642806036</td>\n",
       "      <td>2019-08-15</td>\n",
       "      <td>730</td>\n",
       "      <td>B</td>\n",
       "    </tr>\n",
       "    <tr>\n",
       "      <th>2</th>\n",
       "      <td>2961555356</td>\n",
       "      <td>4069496402</td>\n",
       "      <td>2019-08-15</td>\n",
       "      <td>400</td>\n",
       "      <td>A</td>\n",
       "    </tr>\n",
       "    <tr>\n",
       "      <th>3</th>\n",
       "      <td>3797467345</td>\n",
       "      <td>1196621759</td>\n",
       "      <td>2019-08-15</td>\n",
       "      <td>9759</td>\n",
       "      <td>B</td>\n",
       "    </tr>\n",
       "    <tr>\n",
       "      <th>4</th>\n",
       "      <td>2282983706</td>\n",
       "      <td>2322279887</td>\n",
       "      <td>2019-08-15</td>\n",
       "      <td>2308</td>\n",
       "      <td>B</td>\n",
       "    </tr>\n",
       "    <tr>\n",
       "      <th>...</th>\n",
       "      <td>...</td>\n",
       "      <td>...</td>\n",
       "      <td>...</td>\n",
       "      <td>...</td>\n",
       "      <td>...</td>\n",
       "    </tr>\n",
       "    <tr>\n",
       "      <th>1192</th>\n",
       "      <td>2662137336</td>\n",
       "      <td>3733762160</td>\n",
       "      <td>2019-08-14</td>\n",
       "      <td>6490</td>\n",
       "      <td>B</td>\n",
       "    </tr>\n",
       "    <tr>\n",
       "      <th>1193</th>\n",
       "      <td>2203539145</td>\n",
       "      <td>370388673</td>\n",
       "      <td>2019-08-14</td>\n",
       "      <td>3190</td>\n",
       "      <td>A</td>\n",
       "    </tr>\n",
       "    <tr>\n",
       "      <th>1194</th>\n",
       "      <td>1807773912</td>\n",
       "      <td>573423106</td>\n",
       "      <td>2019-08-14</td>\n",
       "      <td>10550</td>\n",
       "      <td>A</td>\n",
       "    </tr>\n",
       "    <tr>\n",
       "      <th>1195</th>\n",
       "      <td>1947021204</td>\n",
       "      <td>1614305549</td>\n",
       "      <td>2019-08-14</td>\n",
       "      <td>100</td>\n",
       "      <td>A</td>\n",
       "    </tr>\n",
       "    <tr>\n",
       "      <th>1196</th>\n",
       "      <td>3936777065</td>\n",
       "      <td>2108080724</td>\n",
       "      <td>2019-08-15</td>\n",
       "      <td>202740</td>\n",
       "      <td>B</td>\n",
       "    </tr>\n",
       "  </tbody>\n",
       "</table>\n",
       "<p>1197 rows × 5 columns</p>\n",
       "</div>"
      ],
      "text/plain": [
       "      transaction_id  visitor_id        date  revenue group\n",
       "0         3667963787  3312258926  2019-08-15     1650     B\n",
       "1         2804400009  3642806036  2019-08-15      730     B\n",
       "2         2961555356  4069496402  2019-08-15      400     A\n",
       "3         3797467345  1196621759  2019-08-15     9759     B\n",
       "4         2282983706  2322279887  2019-08-15     2308     B\n",
       "...              ...         ...         ...      ...   ...\n",
       "1192      2662137336  3733762160  2019-08-14     6490     B\n",
       "1193      2203539145   370388673  2019-08-14     3190     A\n",
       "1194      1807773912   573423106  2019-08-14    10550     A\n",
       "1195      1947021204  1614305549  2019-08-14      100     A\n",
       "1196      3936777065  2108080724  2019-08-15   202740     B\n",
       "\n",
       "[1197 rows x 5 columns]"
      ]
     },
     "execution_count": 10,
     "metadata": {},
     "output_type": "execute_result"
    }
   ],
   "source": [
    "orders.rename(columns = {'transactionId':'transaction_id', 'visitorId':'visitor_id'}, inplace = True )\n",
    "orders"
   ]
  },
  {
   "cell_type": "code",
   "execution_count": 11,
   "id": "f388b4cf",
   "metadata": {},
   "outputs": [],
   "source": [
    "#приведем столбцы с датами к типу датавремя\n",
    "orders['date'] = pd.to_datetime(orders['date'])\n",
    "visitors['date'] = pd.to_datetime(visitors['date'])"
   ]
  },
  {
   "cell_type": "code",
   "execution_count": 12,
   "id": "f54989b0",
   "metadata": {},
   "outputs": [
    {
     "data": {
      "text/plain": [
       "transaction_id    0\n",
       "visitor_id        0\n",
       "date              0\n",
       "revenue           0\n",
       "group             0\n",
       "dtype: int64"
      ]
     },
     "execution_count": 12,
     "metadata": {},
     "output_type": "execute_result"
    }
   ],
   "source": [
    "#посмотрим, есть ли пропущенные значения в таблицах\n",
    "orders.isna().sum()"
   ]
  },
  {
   "cell_type": "code",
   "execution_count": 13,
   "id": "b58f501b",
   "metadata": {},
   "outputs": [
    {
     "data": {
      "text/plain": [
       "date        0\n",
       "group       0\n",
       "visitors    0\n",
       "dtype: int64"
      ]
     },
     "execution_count": 13,
     "metadata": {},
     "output_type": "execute_result"
    }
   ],
   "source": [
    "visitors.isna().sum()"
   ]
  },
  {
   "cell_type": "markdown",
   "id": "5824d9f6",
   "metadata": {},
   "source": [
    "Пропусков нет. Посмотрим, есть ли явные дубликаты."
   ]
  },
  {
   "cell_type": "code",
   "execution_count": 14,
   "id": "4f872e0c",
   "metadata": {},
   "outputs": [
    {
     "data": {
      "text/plain": [
       "0"
      ]
     },
     "execution_count": 14,
     "metadata": {},
     "output_type": "execute_result"
    }
   ],
   "source": [
    "orders.duplicated().sum()"
   ]
  },
  {
   "cell_type": "code",
   "execution_count": 15,
   "id": "50346d6c",
   "metadata": {},
   "outputs": [
    {
     "data": {
      "text/plain": [
       "0"
      ]
     },
     "execution_count": 15,
     "metadata": {},
     "output_type": "execute_result"
    }
   ],
   "source": [
    "visitors.duplicated().sum()"
   ]
  },
  {
   "cell_type": "code",
   "execution_count": 16,
   "id": "015f7f3a",
   "metadata": {},
   "outputs": [
    {
     "data": {
      "text/html": [
       "<div>\n",
       "<style scoped>\n",
       "    .dataframe tbody tr th:only-of-type {\n",
       "        vertical-align: middle;\n",
       "    }\n",
       "\n",
       "    .dataframe tbody tr th {\n",
       "        vertical-align: top;\n",
       "    }\n",
       "\n",
       "    .dataframe thead th {\n",
       "        text-align: right;\n",
       "    }\n",
       "</style>\n",
       "<table border=\"1\" class=\"dataframe\">\n",
       "  <thead>\n",
       "    <tr style=\"text-align: right;\">\n",
       "      <th></th>\n",
       "      <th>visitor_id</th>\n",
       "    </tr>\n",
       "    <tr>\n",
       "      <th>group</th>\n",
       "      <th></th>\n",
       "    </tr>\n",
       "  </thead>\n",
       "  <tbody>\n",
       "    <tr>\n",
       "      <th>A</th>\n",
       "      <td>557</td>\n",
       "    </tr>\n",
       "    <tr>\n",
       "      <th>B</th>\n",
       "      <td>640</td>\n",
       "    </tr>\n",
       "  </tbody>\n",
       "</table>\n",
       "</div>"
      ],
      "text/plain": [
       "       visitor_id\n",
       "group            \n",
       "A             557\n",
       "B             640"
      ]
     },
     "execution_count": 16,
     "metadata": {},
     "output_type": "execute_result"
    }
   ],
   "source": [
    "#посмотрим, сколько групп участвовало в тесте и сколько пользователей попало в каждую группу\n",
    "o1 = orders.groupby('group').agg({'visitor_id':'count'})\n",
    "o1"
   ]
  },
  {
   "cell_type": "code",
   "execution_count": 17,
   "id": "b4c5840b",
   "metadata": {},
   "outputs": [
    {
     "data": {
      "text/plain": [
       "58"
      ]
     },
     "execution_count": 17,
     "metadata": {},
     "output_type": "execute_result"
    }
   ],
   "source": [
    "#проверяем, есть ли пользователи, попавшие в обе группы эксперимента\n",
    "group_a = orders.query('group==\"A\"')['visitor_id']\n",
    "group_b = orders.query('group==\"B\"')['visitor_id']\n",
    "duplicates = orders.query('visitor_id in @group_a and visitor_id in @group_b')\n",
    "duplicates['visitor_id'].nunique()"
   ]
  },
  {
   "cell_type": "code",
   "execution_count": 18,
   "id": "c326b470",
   "metadata": {},
   "outputs": [
    {
     "data": {
      "text/html": [
       "<div>\n",
       "<style scoped>\n",
       "    .dataframe tbody tr th:only-of-type {\n",
       "        vertical-align: middle;\n",
       "    }\n",
       "\n",
       "    .dataframe tbody tr th {\n",
       "        vertical-align: top;\n",
       "    }\n",
       "\n",
       "    .dataframe thead th {\n",
       "        text-align: right;\n",
       "    }\n",
       "</style>\n",
       "<table border=\"1\" class=\"dataframe\">\n",
       "  <thead>\n",
       "    <tr style=\"text-align: right;\">\n",
       "      <th></th>\n",
       "      <th>transaction_id</th>\n",
       "      <th>visitor_id</th>\n",
       "      <th>date</th>\n",
       "      <th>revenue</th>\n",
       "      <th>group</th>\n",
       "    </tr>\n",
       "  </thead>\n",
       "  <tbody>\n",
       "    <tr>\n",
       "      <th>2</th>\n",
       "      <td>2961555356</td>\n",
       "      <td>4069496402</td>\n",
       "      <td>2019-08-15</td>\n",
       "      <td>400</td>\n",
       "      <td>A</td>\n",
       "    </tr>\n",
       "    <tr>\n",
       "      <th>20</th>\n",
       "      <td>2904772834</td>\n",
       "      <td>963407295</td>\n",
       "      <td>2019-08-15</td>\n",
       "      <td>300</td>\n",
       "      <td>B</td>\n",
       "    </tr>\n",
       "    <tr>\n",
       "      <th>23</th>\n",
       "      <td>4252514150</td>\n",
       "      <td>351125977</td>\n",
       "      <td>2019-08-15</td>\n",
       "      <td>15185</td>\n",
       "      <td>B</td>\n",
       "    </tr>\n",
       "    <tr>\n",
       "      <th>24</th>\n",
       "      <td>1162046357</td>\n",
       "      <td>3234906277</td>\n",
       "      <td>2019-08-15</td>\n",
       "      <td>7555</td>\n",
       "      <td>B</td>\n",
       "    </tr>\n",
       "    <tr>\n",
       "      <th>26</th>\n",
       "      <td>2223239646</td>\n",
       "      <td>199603092</td>\n",
       "      <td>2019-08-15</td>\n",
       "      <td>3488</td>\n",
       "      <td>A</td>\n",
       "    </tr>\n",
       "    <tr>\n",
       "      <th>...</th>\n",
       "      <td>...</td>\n",
       "      <td>...</td>\n",
       "      <td>...</td>\n",
       "      <td>...</td>\n",
       "      <td>...</td>\n",
       "    </tr>\n",
       "    <tr>\n",
       "      <th>1182</th>\n",
       "      <td>2682156369</td>\n",
       "      <td>1668030113</td>\n",
       "      <td>2019-08-14</td>\n",
       "      <td>1290</td>\n",
       "      <td>B</td>\n",
       "    </tr>\n",
       "    <tr>\n",
       "      <th>1183</th>\n",
       "      <td>1458356232</td>\n",
       "      <td>963407295</td>\n",
       "      <td>2019-08-14</td>\n",
       "      <td>4940</td>\n",
       "      <td>A</td>\n",
       "    </tr>\n",
       "    <tr>\n",
       "      <th>1184</th>\n",
       "      <td>1329499668</td>\n",
       "      <td>2949041841</td>\n",
       "      <td>2019-08-14</td>\n",
       "      <td>10380</td>\n",
       "      <td>B</td>\n",
       "    </tr>\n",
       "    <tr>\n",
       "      <th>1189</th>\n",
       "      <td>4082620617</td>\n",
       "      <td>393266494</td>\n",
       "      <td>2019-08-14</td>\n",
       "      <td>31550</td>\n",
       "      <td>B</td>\n",
       "    </tr>\n",
       "    <tr>\n",
       "      <th>1195</th>\n",
       "      <td>1947021204</td>\n",
       "      <td>1614305549</td>\n",
       "      <td>2019-08-14</td>\n",
       "      <td>100</td>\n",
       "      <td>A</td>\n",
       "    </tr>\n",
       "  </tbody>\n",
       "</table>\n",
       "<p>181 rows × 5 columns</p>\n",
       "</div>"
      ],
      "text/plain": [
       "      transaction_id  visitor_id       date  revenue group\n",
       "2         2961555356  4069496402 2019-08-15      400     A\n",
       "20        2904772834   963407295 2019-08-15      300     B\n",
       "23        4252514150   351125977 2019-08-15    15185     B\n",
       "24        1162046357  3234906277 2019-08-15     7555     B\n",
       "26        2223239646   199603092 2019-08-15     3488     A\n",
       "...              ...         ...        ...      ...   ...\n",
       "1182      2682156369  1668030113 2019-08-14     1290     B\n",
       "1183      1458356232   963407295 2019-08-14     4940     A\n",
       "1184      1329499668  2949041841 2019-08-14    10380     B\n",
       "1189      4082620617   393266494 2019-08-14    31550     B\n",
       "1195      1947021204  1614305549 2019-08-14      100     A\n",
       "\n",
       "[181 rows x 5 columns]"
      ]
     },
     "execution_count": 18,
     "metadata": {},
     "output_type": "execute_result"
    }
   ],
   "source": [
    "duplicates"
   ]
  },
  {
   "cell_type": "code",
   "execution_count": 19,
   "id": "3874ed12",
   "metadata": {},
   "outputs": [
    {
     "data": {
      "text/plain": [
       "0.05625606207565471"
      ]
     },
     "execution_count": 19,
     "metadata": {},
     "output_type": "execute_result"
    }
   ],
   "source": [
    "#посмотрим, какова доля повторяющихся пользователей в общей численности \n",
    "duplicates['visitor_id'].nunique()/orders['visitor_id'].nunique()"
   ]
  },
  {
   "cell_type": "markdown",
   "id": "d161b163",
   "metadata": {},
   "source": [
    "Доля таких пользователей составляет более 5%. Это существенный процент, нам стоит убрать из исследования таких пользователей. "
   ]
  },
  {
   "cell_type": "code",
   "execution_count": 20,
   "id": "520500f4",
   "metadata": {
    "scrolled": true
   },
   "outputs": [],
   "source": [
    "orders = orders.query('visitor_id not in @duplicates').reset_index(drop=True)"
   ]
  },
  {
   "cell_type": "code",
   "execution_count": 21,
   "id": "3b62b7f8",
   "metadata": {},
   "outputs": [
    {
     "data": {
      "text/plain": [
       "Timestamp('2019-08-01 00:00:00')"
      ]
     },
     "execution_count": 21,
     "metadata": {},
     "output_type": "execute_result"
    }
   ],
   "source": [
    "#Изучим временной интервал, узнав даты начала и окончания теста\n",
    "test_start = orders['date'].min()\n",
    "test_start"
   ]
  },
  {
   "cell_type": "code",
   "execution_count": 22,
   "id": "d6f1a38d",
   "metadata": {},
   "outputs": [
    {
     "data": {
      "text/plain": [
       "Timestamp('2019-08-31 00:00:00')"
      ]
     },
     "execution_count": 22,
     "metadata": {},
     "output_type": "execute_result"
    }
   ],
   "source": [
    "test_end = orders['date'].max()\n",
    "test_end"
   ]
  },
  {
   "cell_type": "markdown",
   "id": "942c00d4",
   "metadata": {},
   "source": [
    "Тест проводился в течение месяца - с 1 по 31 августа 2019 года."
   ]
  },
  {
   "cell_type": "code",
   "execution_count": 23,
   "id": "10e18db7",
   "metadata": {},
   "outputs": [],
   "source": [
    "B_visitors = visitors.query('group==\"B\"')\n",
    "A_visitors = visitors.query('group==\"A\"')"
   ]
  },
  {
   "cell_type": "code",
   "execution_count": 24,
   "id": "60088230",
   "metadata": {},
   "outputs": [
    {
     "data": {
      "image/png": "[encoded data removed]",
      "text/plain": [
       "<Figure size 432x288 with 1 Axes>"
      ]
     },
     "metadata": {},
     "output_type": "display_data"
    }
   ],
   "source": [
    "#Посмотрим динамику посетителей по дням в группах\n",
    "plt.style.use('ggplot')\n",
    "fig, ax = plt.subplots()\n",
    "# Строим график группы А\n",
    "plt.plot(A_visitors['date'], A_visitors['visitors'], label='A')\n",
    "\n",
    "# Строим график группы B\n",
    "plt.plot(B_visitors['date'], B_visitors['visitors'], label='B')\n",
    "\n",
    "ax.set(title='Динамика посетителей по дням', xlabel='Дата', ylabel='Посетители')\n",
    "plt.legend() \n",
    "plt.xticks(rotation = 45);"
   ]
  },
  {
   "cell_type": "markdown",
   "id": "e120ff07",
   "metadata": {},
   "source": [
    "Динамика посещений интернет-магазина явно сильно колеблется. Минимальное количество посещений наблюдается ближе к концу недели - в пятницу-субботу. Возможно, в выходные дни клиенты этого магазина не очень-то задумываются о покупке того, что предлагает магазин."
   ]
  },
  {
   "cell_type": "markdown",
   "id": "a6cc350c",
   "metadata": {},
   "source": [
    "### Строим график кумулятивной выручки по группам"
   ]
  },
  {
   "cell_type": "code",
   "execution_count": 25,
   "id": "79412d9d",
   "metadata": {},
   "outputs": [
    {
     "name": "stdout",
     "output_type": "stream",
     "text": [
      "<class 'pandas.core.frame.DataFrame'>\n",
      "RangeIndex: 62 entries, 0 to 61\n",
      "Data columns (total 3 columns):\n",
      " #   Column    Non-Null Count  Dtype         \n",
      "---  ------    --------------  -----         \n",
      " 0   date      62 non-null     datetime64[ns]\n",
      " 1   group     62 non-null     object        \n",
      " 2   visitors  62 non-null     int64         \n",
      "dtypes: datetime64[ns](1), int64(1), object(1)\n",
      "memory usage: 1.6+ KB\n"
     ]
    }
   ],
   "source": [
    "visitors.info()"
   ]
  },
  {
   "cell_type": "code",
   "execution_count": 26,
   "id": "33b260f7",
   "metadata": {},
   "outputs": [],
   "source": [
    "# создаем массив уникальных пар значений дат и групп теста\n",
    "datesGroups = orders[['date','group']].drop_duplicates()\n",
    "\n",
    "ordersAggregated = datesGroups.apply(lambda x: orders[np.logical_and(orders['date'] <= x['date'], orders['group'] == x['group'])]\\\n",
    ".agg({'date' : 'max', 'group' : 'max', 'transaction_id' : 'nunique', 'visitor_id' : 'nunique', 'revenue' : 'sum'}), axis=1)\\\n",
    ".sort_values(by=['date','group'])\n",
    "visitorsAggregated = datesGroups.apply(lambda x: visitors[np.logical_and(visitors['date'] <= x['date'], visitors['group'] == x['group'])]\\\n",
    "                                       .agg({'date' : 'max', 'group' : 'max', 'visitors' : 'sum'}), axis=1)\\\n",
    ".sort_values(by=['date','group'])\n",
    "# объединяем кумулятивные данные в одной таблице и присваиваем ее столбцам понятные названия\n",
    "cumulativeData = ordersAggregated.merge(visitorsAggregated, left_on=['date', 'group'], right_on=['date', 'group'])\n",
    "cumulativeData.columns = ['date', 'group', 'orders', 'buyers', 'revenue', 'visitors']"
   ]
  },
  {
   "cell_type": "code",
   "execution_count": 27,
   "id": "a6c38b34",
   "metadata": {},
   "outputs": [
    {
     "data": {
      "text/plain": [
       "Timestamp('2019-08-01 00:00:00')"
      ]
     },
     "execution_count": 27,
     "metadata": {},
     "output_type": "execute_result"
    }
   ],
   "source": [
    "#проверим, корректно ли был содан датафрейм cumulativeData путем сравнения максимальной и минимальной даты с исходными датами\n",
    "test_start_check = cumulativeData['date'].min()\n",
    "test_start_check"
   ]
  },
  {
   "cell_type": "code",
   "execution_count": 28,
   "id": "840b0f44",
   "metadata": {},
   "outputs": [
    {
     "data": {
      "text/plain": [
       "Timestamp('2019-08-31 00:00:00')"
      ]
     },
     "execution_count": 28,
     "metadata": {},
     "output_type": "execute_result"
    }
   ],
   "source": [
    "test_end_check = cumulativeData['date'].max()\n",
    "test_end_check"
   ]
  },
  {
   "cell_type": "markdown",
   "id": "09076763",
   "metadata": {},
   "source": [
    "Даты совпали. Есть основания считать, что датафрейм создан без ошибок."
   ]
  },
  {
   "cell_type": "code",
   "execution_count": 29,
   "id": "32dd3c5f",
   "metadata": {},
   "outputs": [
    {
     "data": {
      "image/png": "[encoded data removed]",
      "text/plain": [
       "<Figure size 432x288 with 1 Axes>"
      ]
     },
     "metadata": {},
     "output_type": "display_data"
    }
   ],
   "source": [
    "# датафрейм с кумулятивным количеством заказов и кумулятивной выручкой по дням в группе А\n",
    "cumulativeRevenueA = cumulativeData[cumulativeData['group']=='A'][['date','revenue', 'orders']]\n",
    "\n",
    "# датафрейм с кумулятивным количеством заказов и кумулятивной выручкой по дням в группе B\n",
    "cumulativeRevenueB = cumulativeData[cumulativeData['group']=='B'][['date','revenue', 'orders']]\n",
    "fig, ax = plt.subplots()\n",
    "# Строим график выручки группы А\n",
    "plt.plot(cumulativeRevenueA['date'], cumulativeRevenueA['revenue'], label='A')\n",
    "\n",
    "# Строим график выручки группы B\n",
    "plt.plot(cumulativeRevenueB['date'], cumulativeRevenueB['revenue'], label='B')\n",
    "\n",
    "plt.legend()\n",
    "ax.set(title='График кумулятивной выручки по группам', xlabel='Дата', ylabel='Стоимость заказа')\n",
    "plt.xticks(rotation = 45);"
   ]
  },
  {
   "cell_type": "markdown",
   "id": "7f882b21",
   "metadata": {},
   "source": [
    "Выручка растет равномерно на протяжении теста. При этом выручка экспериментальной группы стабильно больше и к концу теста заметен скачок в росте. Вероятно, тут могут быть выбросы. Нужно будет проверить это."
   ]
  },
  {
   "cell_type": "markdown",
   "id": "8b4398da",
   "metadata": {},
   "source": [
    "### Построим графики среднего чека по группам"
   ]
  },
  {
   "cell_type": "code",
   "execution_count": 30,
   "id": "f2d8c5fd",
   "metadata": {},
   "outputs": [
    {
     "data": {
      "image/png": "[encoded data removed]",
      "text/plain": [
       "<Figure size 432x288 with 1 Axes>"
      ]
     },
     "metadata": {},
     "output_type": "display_data"
    }
   ],
   "source": [
    "fig, ax = plt.subplots()\n",
    "plt.plot(cumulativeRevenueA['date'], cumulativeRevenueA['revenue']/cumulativeRevenueA['orders'], label='A')\n",
    "plt.plot(cumulativeRevenueB['date'], cumulativeRevenueB['revenue']/cumulativeRevenueB['orders'], label='B')\n",
    "plt.legend() \n",
    "ax.set(title='Графики среднего чека по группам', xlabel='Дата', ylabel='Средний чек')\n",
    "plt.xticks(rotation = 45);"
   ]
  },
  {
   "cell_type": "markdown",
   "id": "49a644ea",
   "metadata": {},
   "source": [
    "Средний чек по группам стабилизируется к концу теста в обеих группах. По графику можно сделать вывод, что средний чек группы В выше примерно на 3000."
   ]
  },
  {
   "cell_type": "markdown",
   "id": "4dfeb549",
   "metadata": {},
   "source": [
    "### Построим график относительного различия для среднего чека"
   ]
  },
  {
   "cell_type": "code",
   "execution_count": 31,
   "id": "34160a4c",
   "metadata": {},
   "outputs": [
    {
     "data": {
      "image/png": "[encoded data removed]",
      "text/plain": [
       "<Figure size 432x288 with 1 Axes>"
      ]
     },
     "metadata": {},
     "output_type": "display_data"
    }
   ],
   "source": [
    "# собираем данные в одном датафрейме\n",
    "mergedCumulativeRevenue = cumulativeRevenueA.merge(cumulativeRevenueB, left_on='date', right_on='date', how='left', suffixes=['A', 'B'])\n",
    "fig, ax = plt.subplots()\n",
    "# cтроим отношение средних чеков\n",
    "plt.plot(mergedCumulativeRevenue['date'], (mergedCumulativeRevenue['revenueB']/mergedCumulativeRevenue['ordersB'])/(mergedCumulativeRevenue['revenueA']/mergedCumulativeRevenue['ordersA'])-1)\n",
    "\n",
    "# добавляем ось X\n",
    "plt.axhline(y=0, color='red', linestyle='--') \n",
    "ax.set(title='График относительного различия для среднего чека', xlabel='Дата', ylabel='Отличие в процентах')\n",
    "plt.xticks(rotation = 45);"
   ]
  },
  {
   "cell_type": "markdown",
   "id": "631badb9",
   "metadata": {},
   "source": [
    "В нескольких точках график различия между сегментами резко «скачет», но к концу эксперимента несколько выравнивается и составляет разницу 30%."
   ]
  },
  {
   "cell_type": "markdown",
   "id": "f7748459",
   "metadata": {},
   "source": [
    "### Построим график кумулятивного среднего количества заказов на посетителя по группам"
   ]
  },
  {
   "cell_type": "code",
   "execution_count": 32,
   "id": "1d9fb68b",
   "metadata": {},
   "outputs": [
    {
     "data": {
      "image/png": "[encoded data removed]",
      "text/plain": [
       "<Figure size 432x288 with 1 Axes>"
      ]
     },
     "metadata": {},
     "output_type": "display_data"
    }
   ],
   "source": [
    "# считаем среднее количество заказов на посетителя\n",
    "cumulativeData['conversion'] = cumulativeData['orders']/cumulativeData['visitors']\n",
    "\n",
    "# отделяем данные по группе A\n",
    "cumulativeDataA = cumulativeData[cumulativeData['group']=='A']\n",
    "\n",
    "# отделяем данные по группе B\n",
    "cumulativeDataB = cumulativeData[cumulativeData['group']=='B']\n",
    "\n",
    "# строим графики\n",
    "plt.plot(cumulativeDataA['date'], cumulativeDataA['conversion'], label='A')\n",
    "plt.plot(cumulativeDataB['date'], cumulativeDataB['conversion'], label='B')\n",
    "plt.legend()\n",
    "plt.title('График кумулятивного среднего количества заказов на посетителя по группам')\n",
    "plt.xlabel('Дата')\n",
    "plt.ylabel('Среднее')\n",
    "plt.xticks(rotation = 45);"
   ]
  },
  {
   "cell_type": "markdown",
   "id": "6e03785e",
   "metadata": {},
   "source": [
    "На начало эксперимента среднее количество заказов в обеих группах сильно колебалось, но к 9 августа график показывает некоторую разницу: показатель начал резко расти у группы В, после чего стабилизировался и к концу теста находится уже у отметки 0,034, тогда как в группе А показатель отстает на 4 пункта."
   ]
  },
  {
   "cell_type": "markdown",
   "id": "4354f44a",
   "metadata": {},
   "source": [
    "### Построим график относительного различия кумулятивных среднего количества заказов на посетителя"
   ]
  },
  {
   "cell_type": "code",
   "execution_count": 33,
   "id": "8d9b3e6b",
   "metadata": {},
   "outputs": [
    {
     "data": {
      "image/png": "[encoded data removed]",
      "text/plain": [
       "<Figure size 432x288 with 1 Axes>"
      ]
     },
     "metadata": {},
     "output_type": "display_data"
    }
   ],
   "source": [
    "mergedCumulativeConversions = cumulativeDataA[['date','conversion']].merge(cumulativeDataB[['date','conversion']], left_on='date', right_on='date', how='left', suffixes=['A', 'B'])\n",
    "\n",
    "plt.plot(mergedCumulativeConversions['date'], mergedCumulativeConversions['conversionB']/mergedCumulativeConversions['conversionA']-1, label=\"Относительный прирост заказов группы B относительно группы A\")\n",
    "plt.legend()\n",
    "\n",
    "plt.axhline(y=0, color='black', linestyle='--')\n",
    "plt.axhline(y=-0.1, color='grey', linestyle='--')\n",
    "plt.title('График относительного различия кумулятивного среднего количества заказов на посетителя по группам')\n",
    "plt.xlabel('Дата')\n",
    "plt.ylabel('Относительное различие')\n",
    "plt.xticks(rotation = 45);"
   ]
  },
  {
   "cell_type": "markdown",
   "id": "472d58cb",
   "metadata": {},
   "source": [
    "В самом начале теста мы видим, что группа В отставала по количеству заказов, затем, 5 августа, количество заказов начало расти и уже к концу теста стабилизируется около 10-15 %."
   ]
  },
  {
   "cell_type": "markdown",
   "id": "b92d7158",
   "metadata": {},
   "source": [
    "### Построим точечный график стоимостей заказов"
   ]
  },
  {
   "cell_type": "code",
   "execution_count": 34,
   "id": "fef15128",
   "metadata": {},
   "outputs": [
    {
     "data": {
      "image/png": "[encoded data removed]",
      "text/plain": [
       "<Figure size 432x288 with 1 Axes>"
      ]
     },
     "metadata": {},
     "output_type": "display_data"
    }
   ],
   "source": [
    "#построим точечный график \n",
    "x_values = pd.Series(range(0,len(orders['revenue'])))\n",
    "fig, ax = plt.subplots()\n",
    "plt.scatter(x_values, orders['revenue']) \n",
    "ax.set_ylim([0, 100000])\n",
    "plt.xlabel('Заказы')\n",
    "plt.ylabel('Выручка')\n",
    "plt.title('График стоимостей заказов');"
   ]
  },
  {
   "cell_type": "markdown",
   "id": "22ff535e",
   "metadata": {},
   "source": [
    "Все-таки большинство заказов не выходят за пределы 40 000 рублей. Есть редкие заказы за 60 000, 80 000 и выше. Их можно считать аномалиями.\n",
    "Определим 95 и 99 перцентили среднего чека в выборке."
   ]
  },
  {
   "cell_type": "code",
   "execution_count": 35,
   "id": "133d4d3a",
   "metadata": {},
   "outputs": [
    {
     "data": {
      "text/plain": [
       "array([28000. , 58233.2])"
      ]
     },
     "execution_count": 35,
     "metadata": {},
     "output_type": "execute_result"
    }
   ],
   "source": [
    "np.percentile(orders['revenue'], [95, 99])"
   ]
  },
  {
   "cell_type": "markdown",
   "id": "e2008f24",
   "metadata": {},
   "source": [
    "Не более 5% заказов дороже 28000 рублей и не более 1% дороже 58233.2 рублей. За верхнюю границу примем заказы стоимостью 28000 рублей."
   ]
  },
  {
   "cell_type": "markdown",
   "id": "70e0550a",
   "metadata": {},
   "source": [
    "#### Посчитаем количество заказов на пользователя"
   ]
  },
  {
   "cell_type": "code",
   "execution_count": 36,
   "id": "e2e4bf56",
   "metadata": {},
   "outputs": [
    {
     "data": {
      "text/html": [
       "<div>\n",
       "<style scoped>\n",
       "    .dataframe tbody tr th:only-of-type {\n",
       "        vertical-align: middle;\n",
       "    }\n",
       "\n",
       "    .dataframe tbody tr th {\n",
       "        vertical-align: top;\n",
       "    }\n",
       "\n",
       "    .dataframe thead th {\n",
       "        text-align: right;\n",
       "    }\n",
       "</style>\n",
       "<table border=\"1\" class=\"dataframe\">\n",
       "  <thead>\n",
       "    <tr style=\"text-align: right;\">\n",
       "      <th></th>\n",
       "      <th>visitor_id</th>\n",
       "      <th>orders</th>\n",
       "    </tr>\n",
       "  </thead>\n",
       "  <tbody>\n",
       "    <tr>\n",
       "      <th>1023</th>\n",
       "      <td>4256040402</td>\n",
       "      <td>11</td>\n",
       "    </tr>\n",
       "    <tr>\n",
       "      <th>591</th>\n",
       "      <td>2458001652</td>\n",
       "      <td>11</td>\n",
       "    </tr>\n",
       "    <tr>\n",
       "      <th>569</th>\n",
       "      <td>2378935119</td>\n",
       "      <td>9</td>\n",
       "    </tr>\n",
       "    <tr>\n",
       "      <th>487</th>\n",
       "      <td>2038680547</td>\n",
       "      <td>8</td>\n",
       "    </tr>\n",
       "    <tr>\n",
       "      <th>44</th>\n",
       "      <td>199603092</td>\n",
       "      <td>5</td>\n",
       "    </tr>\n",
       "    <tr>\n",
       "      <th>744</th>\n",
       "      <td>3062433592</td>\n",
       "      <td>5</td>\n",
       "    </tr>\n",
       "    <tr>\n",
       "      <th>55</th>\n",
       "      <td>237748145</td>\n",
       "      <td>5</td>\n",
       "    </tr>\n",
       "    <tr>\n",
       "      <th>917</th>\n",
       "      <td>3803269165</td>\n",
       "      <td>5</td>\n",
       "    </tr>\n",
       "    <tr>\n",
       "      <th>299</th>\n",
       "      <td>1230306981</td>\n",
       "      <td>5</td>\n",
       "    </tr>\n",
       "    <tr>\n",
       "      <th>897</th>\n",
       "      <td>3717692402</td>\n",
       "      <td>5</td>\n",
       "    </tr>\n",
       "  </tbody>\n",
       "</table>\n",
       "</div>"
      ],
      "text/plain": [
       "      visitor_id  orders\n",
       "1023  4256040402      11\n",
       "591   2458001652      11\n",
       "569   2378935119       9\n",
       "487   2038680547       8\n",
       "44     199603092       5\n",
       "744   3062433592       5\n",
       "55     237748145       5\n",
       "917   3803269165       5\n",
       "299   1230306981       5\n",
       "897   3717692402       5"
      ]
     },
     "execution_count": 36,
     "metadata": {},
     "output_type": "execute_result"
    }
   ],
   "source": [
    "ordersByUsers = (\n",
    "    orders.groupby('visitor_id', as_index=False)\n",
    "    .agg({'transaction_id': 'nunique'})\n",
    ")\n",
    "\n",
    "ordersByUsers.columns = ['visitor_id', 'orders']\n",
    "ordersByUsers.sort_values(by='orders', ascending=False).head(10)"
   ]
  },
  {
   "cell_type": "markdown",
   "id": "3519be3a",
   "metadata": {},
   "source": [
    "#### Построим точечный график распределения заказов по пользователям"
   ]
  },
  {
   "cell_type": "code",
   "execution_count": 37,
   "id": "4507f327",
   "metadata": {},
   "outputs": [
    {
     "data": {
      "image/png": "[encoded data removed]",
      "text/plain": [
       "<Figure size 432x288 with 1 Axes>"
      ]
     },
     "metadata": {},
     "output_type": "display_data"
    }
   ],
   "source": [
    "x_values = pd.Series(range(0,len(ordersByUsers)))\n",
    "\n",
    "plt.scatter(x_values, ordersByUsers['orders'])\n",
    "plt.xlabel('Пользователи')\n",
    "plt.ylabel('Количество заказов')\n",
    "plt.title('График распределения заказов по пользователям');"
   ]
  },
  {
   "cell_type": "markdown",
   "id": "ae7b9746",
   "metadata": {},
   "source": [
    "Самая частая история, когда клиент делает один заказ, чуть реже - 2, еще реже - 3. По 4 и 5 заказов делает совсем мало клиентов. Но пока непонятно, какова их доля. Нужно посчитать перцентили. "
   ]
  },
  {
   "cell_type": "code",
   "execution_count": 38,
   "id": "12e20d0f",
   "metadata": {},
   "outputs": [
    {
     "data": {
      "text/plain": [
       "array([2., 4.])"
      ]
     },
     "execution_count": 38,
     "metadata": {},
     "output_type": "execute_result"
    }
   ],
   "source": [
    "np.percentile(ordersByUsers['orders'], [95, 99])"
   ]
  },
  {
   "cell_type": "markdown",
   "id": "180e546f",
   "metadata": {},
   "source": [
    "Не более 5% пользователей оформляли больше чем 2 заказа. И 10% пользователей заказывали более четырех раз. За верхнюю границу стоит выбрать 2 заказа на пользователя. "
   ]
  },
  {
   "cell_type": "markdown",
   "id": "6e3ea939",
   "metadata": {},
   "source": [
    "## Расчет статистической значимости"
   ]
  },
  {
   "cell_type": "markdown",
   "id": "1d9ad996",
   "metadata": {},
   "source": [
    "Посчитаем статистическую значимость различий в среднем числе заказов на пользователя и среднем чеке между группами по «сырым» данным — без удаления аномальных пользователей.\n",
    "Сформулируем гипотезы. \n",
    "- Нулевая: различий в среднем количестве заказов между группами нет. \n",
    "- Альтернативная: различия в среднем между группами есть."
   ]
  },
  {
   "cell_type": "code",
   "execution_count": 39,
   "id": "6c22ef34",
   "metadata": {},
   "outputs": [],
   "source": [
    "import scipy.stats as stats"
   ]
  },
  {
   "cell_type": "code",
   "execution_count": 40,
   "id": "fc0b6a9a",
   "metadata": {},
   "outputs": [],
   "source": [
    "ordersByUsersA = (\n",
    "    orders[orders['group'] == 'A']\n",
    "    .groupby('visitor_id', as_index=False)\n",
    "    .agg({'transaction_id': pd.Series.nunique})\n",
    ")\n",
    "ordersByUsersA.columns = ['visitor_id', 'orders']\n",
    "\n",
    "ordersByUsersB = (\n",
    "    orders[orders['group'] == 'B']\n",
    "    .groupby('visitor_id', as_index=False)\n",
    "    .agg({'transaction_id': pd.Series.nunique})\n",
    ")\n",
    "ordersByUsersB.columns = ['visitor_id', 'orders']\n",
    "\n",
    "visitorsPerDateA = visitors.query('group == \"A\"')\n",
    "\n",
    "visitorsPerDateB = visitors.query('group == \"B\"')\n",
    "\n",
    "sampleA = pd.concat(\n",
    "    [\n",
    "        ordersByUsersA['orders'],\n",
    "        pd.Series(\n",
    "            0,\n",
    "            index=np.arange(\n",
    "                visitorsPerDateA['visitors'].sum() - len(ordersByUsersA['orders'])\n",
    "            ),\n",
    "            name='orders',\n",
    "        ),\n",
    "    ],\n",
    "    axis=0,\n",
    ")\n",
    "\n",
    "sampleB = pd.concat(\n",
    "    [\n",
    "        ordersByUsersB['orders'],\n",
    "        pd.Series(\n",
    "            0,\n",
    "            index=np.arange(\n",
    "                visitorsPerDateB['visitors'].sum() - len(ordersByUsersB['orders'])\n",
    "            ),\n",
    "            name='orders',\n",
    "        ),\n",
    "    ],\n",
    "    axis=0,\n",
    ")"
   ]
  },
  {
   "cell_type": "code",
   "execution_count": 41,
   "id": "b74c157d",
   "metadata": {},
   "outputs": [],
   "source": [
    "p_value1 = \"{0:.3f}\".format(stats.mannwhitneyu(sampleA, sampleB)[1])\n",
    "growthB = \"{0:.3f}\".format(sampleB.mean() / sampleA.mean() - 1)"
   ]
  },
  {
   "cell_type": "code",
   "execution_count": 42,
   "id": "b73dbb63",
   "metadata": {},
   "outputs": [
    {
     "data": {
      "text/plain": [
       "'0.017'"
      ]
     },
     "execution_count": 42,
     "metadata": {},
     "output_type": "execute_result"
    }
   ],
   "source": [
    "p_value1"
   ]
  },
  {
   "cell_type": "code",
   "execution_count": 43,
   "id": "40f78d79",
   "metadata": {},
   "outputs": [
    {
     "data": {
      "text/plain": [
       "'0.138'"
      ]
     },
     "execution_count": 43,
     "metadata": {},
     "output_type": "execute_result"
    }
   ],
   "source": [
    "growthB"
   ]
  },
  {
   "cell_type": "markdown",
   "id": "952e5478",
   "metadata": {},
   "source": [
    "P-value = 0.017 получилось меньше 0.05. Значит, нулевую гипотезу о том, что статистически значимых различий в среднем числе заказов между группами нет, отвергаем. Относительный проигрыш группы B равен 13.8%."
   ]
  },
  {
   "cell_type": "markdown",
   "id": "5e25f257",
   "metadata": {},
   "source": [
    "Теперь проверим статистическую значимость различий в среднем чеке между сегментами. \n",
    "- Нулевая гипотеза: различий в среднем чеке между группами нет. \n",
    "- Альтернативная гипотеза: различия в среднем чеке между группами есть. "
   ]
  },
  {
   "cell_type": "code",
   "execution_count": 44,
   "id": "649bbc2c",
   "metadata": {},
   "outputs": [],
   "source": [
    "p_value2 = '{0:.3f}'.format(stats.mannwhitneyu(orders[orders['group']=='A']['revenue'], orders[orders['group']=='B']['revenue'])[1])\n",
    "ave_check = '{0:.3f}'.format(orders[orders['group']=='B']['revenue'].mean()/orders[orders['group']=='A']['revenue'].mean()-1)"
   ]
  },
  {
   "cell_type": "code",
   "execution_count": 45,
   "id": "0cd5fc68",
   "metadata": {},
   "outputs": [
    {
     "data": {
      "text/plain": [
       "'0.729'"
      ]
     },
     "execution_count": 45,
     "metadata": {},
     "output_type": "execute_result"
    }
   ],
   "source": [
    "p_value2"
   ]
  },
  {
   "cell_type": "code",
   "execution_count": 46,
   "id": "91b4618b",
   "metadata": {},
   "outputs": [
    {
     "data": {
      "text/plain": [
       "'0.259'"
      ]
     },
     "execution_count": 46,
     "metadata": {},
     "output_type": "execute_result"
    }
   ],
   "source": [
    "ave_check"
   ]
  },
  {
   "cell_type": "markdown",
   "id": "db80d39a",
   "metadata": {},
   "source": [
    "P-value значительно больше 0.05. Значит, причин отвергать нулевую гипотезу и считать, что в среднем чеке есть различия, нет. Впрочем, средний чек группы B на ~26% выше среднего чека группы A. Поскольку относительное различие среднего чека между сегментами составляет ~26%, наблюдаемые различия не являются значимыми при таком уровне значимости, а следовательно были получены случайно."
   ]
  },
  {
   "cell_type": "markdown",
   "id": "17b9f471",
   "metadata": {},
   "source": [
    "### Отсеиваем аномальные заказы и чеки"
   ]
  },
  {
   "cell_type": "markdown",
   "id": "69ea9f07",
   "metadata": {},
   "source": [
    "Найденные ранее 95-й и 99-й перцентили средних чеков равны 28 000, 58 233.2 рублям. А 95-й и 99-й перцентили количества заказов на одного пользователя равны 2 и 4 заказам на пользователя.\n",
    "Примем за аномальных пользователей тех, кто совершил от 2 заказов или совершил заказ дороже 28 000 рублей. Так мы убираем 5% пользователей с наибольшим числом заказов и от 1% до 5% пользователей с дорогими заказами. Сделаем срезы пользователей с числом заказов больше 2 — usersWithManyOrders и пользователей, совершивших заказы дороже 28 000 — usersWithExpensiveOrders. Объединим их в таблице abnormalUsers. "
   ]
  },
  {
   "cell_type": "code",
   "execution_count": 47,
   "id": "08194b7f",
   "metadata": {},
   "outputs": [],
   "source": [
    "usersWithManyOrders = pd.concat(\n",
    "    [\n",
    "        ordersByUsersA[ordersByUsersA['orders'] > 2]['visitor_id'],\n",
    "        ordersByUsersB[ordersByUsersB['orders'] > 2]['visitor_id'],\n",
    "    ],\n",
    "    axis=0,\n",
    ")\n",
    "usersWithExpensiveOrders = orders[orders['revenue'] > 28000]['visitor_id']\n",
    "abnormalUsers = (\n",
    "    pd.concat([usersWithManyOrders, usersWithExpensiveOrders], axis=0)\n",
    "    .drop_duplicates()\n",
    "    .sort_values()\n",
    ")"
   ]
  },
  {
   "cell_type": "code",
   "execution_count": 48,
   "id": "dd832d3c",
   "metadata": {},
   "outputs": [
    {
     "data": {
      "text/plain": [
       "74"
      ]
     },
     "execution_count": 48,
     "metadata": {},
     "output_type": "execute_result"
    }
   ],
   "source": [
    "abnormalUsers.shape[0]"
   ]
  },
  {
   "cell_type": "code",
   "execution_count": 49,
   "id": "03f01526",
   "metadata": {},
   "outputs": [],
   "source": [
    "#подготовим выборки количества заказов по пользователям по группам теста:\n",
    "sampleAFiltered = pd.concat(\n",
    "    [\n",
    "        ordersByUsersA[\n",
    "            np.logical_not(ordersByUsersA['visitor_id'].isin(abnormalUsers))\n",
    "        ]['orders'],\n",
    "        pd.Series(\n",
    "            0,\n",
    "            index=np.arange(\n",
    "                visitorsPerDateA['visitors'].sum() - len(ordersByUsersA['orders'])\n",
    "            ),\n",
    "            name='orders',\n",
    "        ),\n",
    "    ],\n",
    "    axis=0,\n",
    ")\n",
    "\n",
    "sampleBFiltered = pd.concat(\n",
    "    [\n",
    "        ordersByUsersB[\n",
    "            np.logical_not(ordersByUsersB['visitor_id'].isin(abnormalUsers))\n",
    "        ]['orders'],\n",
    "        pd.Series(\n",
    "            0,\n",
    "            index=np.arange(\n",
    "                visitorsPerDateB['visitors'].sum() - len(ordersByUsersB['orders'])\n",
    "            ),\n",
    "            name='orders',\n",
    "        ),\n",
    "    ],\n",
    "    axis=0,\n",
    ") "
   ]
  },
  {
   "cell_type": "code",
   "execution_count": 50,
   "id": "8bd73a74",
   "metadata": {},
   "outputs": [
    {
     "name": "stdout",
     "output_type": "stream",
     "text": [
      "0.013\n",
      "0.173\n"
     ]
    }
   ],
   "source": [
    "print('{0:.3f}'.format(stats.mannwhitneyu(sampleAFiltered, sampleBFiltered)[1]))\n",
    "print('{0:.3f}'.format(sampleBFiltered.mean()/sampleAFiltered.mean()-1)) "
   ]
  },
  {
   "cell_type": "markdown",
   "id": "7dc99ec0",
   "metadata": {},
   "source": [
    "Результаты по среднему количеству заказов практически не изменились. P-value ниже уровня статистической значимости, поэтому как и в случае анализа исходных данных без учета аномальных значений, нулевую гипотезу придется отвергнуть. То есть разница в группах по количеству заказов есть и она значима. Посмотрим на результаты по среднему чеку."
   ]
  },
  {
   "cell_type": "code",
   "execution_count": 51,
   "id": "abbd4db3",
   "metadata": {},
   "outputs": [
    {
     "name": "stdout",
     "output_type": "stream",
     "text": [
      "0.738\n",
      "-0.020\n"
     ]
    }
   ],
   "source": [
    "print(\n",
    "    '{0:.3f}'.format(\n",
    "        stats.mannwhitneyu(\n",
    "            orders[\n",
    "                np.logical_and(\n",
    "                    orders['group'] == 'A',\n",
    "                    np.logical_not(orders['visitor_id'].isin(abnormalUsers)),\n",
    "                )\n",
    "            ]['revenue'],\n",
    "            orders[\n",
    "                np.logical_and(\n",
    "                    orders['group'] == 'B',\n",
    "                    np.logical_not(orders['visitor_id'].isin(abnormalUsers)),\n",
    "                )\n",
    "            ]['revenue'],\n",
    "        )[1]\n",
    "    )\n",
    ")\n",
    "\n",
    "print(\n",
    "    \"{0:.3f}\".format(\n",
    "        orders[\n",
    "            np.logical_and(\n",
    "                orders['group'] == 'B',\n",
    "                np.logical_not(orders['visitor_id'].isin(abnormalUsers)),\n",
    "            )\n",
    "        ]['revenue'].mean()\n",
    "        / orders[\n",
    "            np.logical_and(\n",
    "                orders['group'] == 'A',\n",
    "                np.logical_not(orders['visitor_id'].isin(abnormalUsers)),\n",
    "            )\n",
    "        ]['revenue'].mean()\n",
    "        - 1\n",
    "    )\n",
    ") "
   ]
  },
  {
   "cell_type": "markdown",
   "id": "e96e05f5",
   "metadata": {},
   "source": [
    "P-value почти не изменился, но существенно снизилась разница между группами в среднем чеке. Поскольку p-value намного выше уровня статической значимости, то оснований отвергать нулевую гипотезу по-прежнему нет. "
   ]
  },
  {
   "cell_type": "markdown",
   "id": "81054065",
   "metadata": {},
   "source": [
    "## Вывод"
   ]
  },
  {
   "cell_type": "markdown",
   "id": "1d2fb7a7",
   "metadata": {},
   "source": [
    "Имеющиеся факты:\n",
    "\n",
    "- Есть статистически значимое различие по среднему количеству заказов между группами и по «сырым», и по данным после фильтрации аномалий;\n",
    "- Однако нет статистически значимого различия по среднему чеку между группами ни по «сырым», ни по данным после фильтрации аномалий;\n",
    "- График различия среднего количества заказов между группами сообщает, что результаты группы B намного лучше группы A\n",
    "- График различия среднего чека говорит о том, что результаты группы B превосходят группу А на 30% на момент завершения эксперимента, однако все же имеет тенденцию к снижению.\n",
    "\n",
    "Исходя из обнаруженных фактов, тест следует остановить и зафиксировать победу группы В. Во-первых, следует признать очевидное превосходство группы В по количеству заказов, а также принять во внимание показатель по среднему чеку, значительно превышающий размер среднего чека в группе А. "
   ]
  }
 ],
 "metadata": {
  "ExecuteTimeLog": [
   {
    "duration": 442,
    "start_time": "2023-04-20T19:10:49.529Z"
   },
   {
    "duration": 81,
    "start_time": "2023-04-20T19:10:49.974Z"
   },
   {
    "duration": 14,
    "start_time": "2023-04-20T19:10:50.057Z"
   },
   {
    "duration": 20,
    "start_time": "2023-04-20T19:10:50.074Z"
   },
   {
    "duration": 15,
    "start_time": "2023-04-20T19:10:50.097Z"
   },
   {
    "duration": 41,
    "start_time": "2023-04-20T19:10:50.114Z"
   },
   {
    "duration": 275,
    "start_time": "2023-04-20T19:10:50.158Z"
   },
   {
    "duration": 104,
    "start_time": "2023-04-20T19:10:50.435Z"
   },
   {
    "duration": 15,
    "start_time": "2023-04-20T19:10:50.546Z"
   },
   {
    "duration": 15,
    "start_time": "2023-04-20T19:10:50.563Z"
   },
   {
    "duration": 19,
    "start_time": "2023-04-20T19:10:50.579Z"
   },
   {
    "duration": 11,
    "start_time": "2023-04-20T19:10:50.600Z"
   },
   {
    "duration": 11,
    "start_time": "2023-04-20T19:10:50.613Z"
   },
   {
    "duration": 8,
    "start_time": "2023-04-20T19:10:50.641Z"
   },
   {
    "duration": 14,
    "start_time": "2023-04-20T19:10:50.651Z"
   },
   {
    "duration": 10,
    "start_time": "2023-04-20T19:10:50.666Z"
   },
   {
    "duration": 13,
    "start_time": "2023-04-20T19:10:50.677Z"
   },
   {
    "duration": 16,
    "start_time": "2023-04-20T19:10:50.691Z"
   },
   {
    "duration": 44,
    "start_time": "2023-04-20T19:10:50.709Z"
   },
   {
    "duration": 15,
    "start_time": "2023-04-20T19:10:50.756Z"
   },
   {
    "duration": 17,
    "start_time": "2023-04-20T19:10:50.773Z"
   },
   {
    "duration": 27,
    "start_time": "2023-04-20T19:10:50.792Z"
   },
   {
    "duration": 337,
    "start_time": "2023-04-20T19:10:50.821Z"
   },
   {
    "duration": 310,
    "start_time": "2023-04-20T19:10:51.161Z"
   },
   {
    "duration": 215,
    "start_time": "2023-04-20T19:10:51.473Z"
   },
   {
    "duration": 292,
    "start_time": "2023-04-20T19:10:51.691Z"
   },
   {
    "duration": 312,
    "start_time": "2023-04-20T19:10:51.985Z"
   },
   {
    "duration": 419,
    "start_time": "2023-04-20T19:10:52.299Z"
   },
   {
    "duration": 177,
    "start_time": "2023-04-20T19:10:52.719Z"
   },
   {
    "duration": 6,
    "start_time": "2023-04-20T19:10:52.898Z"
   },
   {
    "duration": 28,
    "start_time": "2023-04-20T19:10:52.906Z"
   },
   {
    "duration": 164,
    "start_time": "2023-04-20T19:10:52.936Z"
   },
   {
    "duration": 6,
    "start_time": "2023-04-20T19:10:53.102Z"
   },
   {
    "duration": 456,
    "start_time": "2023-04-20T19:10:53.109Z"
   },
   {
    "duration": 203,
    "start_time": "2023-04-20T19:10:53.567Z"
   },
   {
    "duration": 23,
    "start_time": "2023-04-20T19:10:53.772Z"
   },
   {
    "duration": 120,
    "start_time": "2023-04-20T19:10:53.797Z"
   },
   {
    "duration": 0,
    "start_time": "2023-04-20T19:10:53.919Z"
   },
   {
    "duration": 0,
    "start_time": "2023-04-20T19:10:53.921Z"
   },
   {
    "duration": 0,
    "start_time": "2023-04-20T19:10:53.922Z"
   },
   {
    "duration": 0,
    "start_time": "2023-04-20T19:10:53.923Z"
   },
   {
    "duration": 0,
    "start_time": "2023-04-20T19:10:53.924Z"
   },
   {
    "duration": 0,
    "start_time": "2023-04-20T19:10:53.925Z"
   },
   {
    "duration": 0,
    "start_time": "2023-04-20T19:10:53.946Z"
   },
   {
    "duration": 0,
    "start_time": "2023-04-20T19:10:53.947Z"
   },
   {
    "duration": 0,
    "start_time": "2023-04-20T19:10:53.947Z"
   },
   {
    "duration": 5,
    "start_time": "2023-04-20T19:11:41.030Z"
   },
   {
    "duration": 12,
    "start_time": "2023-04-20T19:11:42.171Z"
   },
   {
    "duration": 5,
    "start_time": "2023-04-20T19:11:42.725Z"
   },
   {
    "duration": 5,
    "start_time": "2023-04-20T19:11:43.224Z"
   },
   {
    "duration": 10,
    "start_time": "2023-04-20T19:11:44.364Z"
   },
   {
    "duration": 7,
    "start_time": "2023-04-20T19:11:44.552Z"
   },
   {
    "duration": 12,
    "start_time": "2023-04-20T19:11:44.732Z"
   },
   {
    "duration": 31,
    "start_time": "2023-04-20T19:11:44.923Z"
   },
   {
    "duration": 16,
    "start_time": "2023-04-20T19:11:45.423Z"
   },
   {
    "duration": 433,
    "start_time": "2023-04-20T19:23:10.049Z"
   },
   {
    "duration": 67,
    "start_time": "2023-04-20T19:23:10.484Z"
   },
   {
    "duration": 13,
    "start_time": "2023-04-20T19:23:10.553Z"
   },
   {
    "duration": 74,
    "start_time": "2023-04-20T19:23:10.569Z"
   },
   {
    "duration": 66,
    "start_time": "2023-04-20T19:23:10.645Z"
   },
   {
    "duration": 16,
    "start_time": "2023-04-20T19:23:10.713Z"
   },
   {
    "duration": 301,
    "start_time": "2023-04-20T19:23:10.731Z"
   },
   {
    "duration": 87,
    "start_time": "2023-04-20T19:23:11.034Z"
   },
   {
    "duration": 14,
    "start_time": "2023-04-20T19:23:11.123Z"
   },
   {
    "duration": 21,
    "start_time": "2023-04-20T19:23:11.140Z"
   },
   {
    "duration": 49,
    "start_time": "2023-04-20T19:23:11.163Z"
   },
   {
    "duration": 34,
    "start_time": "2023-04-20T19:23:11.214Z"
   },
   {
    "duration": 27,
    "start_time": "2023-04-20T19:23:11.250Z"
   },
   {
    "duration": 11,
    "start_time": "2023-04-20T19:23:11.280Z"
   },
   {
    "duration": 20,
    "start_time": "2023-04-20T19:23:11.293Z"
   },
   {
    "duration": 8,
    "start_time": "2023-04-20T19:23:11.315Z"
   },
   {
    "duration": 14,
    "start_time": "2023-04-20T19:23:11.325Z"
   },
   {
    "duration": 27,
    "start_time": "2023-04-20T19:23:11.340Z"
   },
   {
    "duration": 41,
    "start_time": "2023-04-20T19:23:11.369Z"
   },
   {
    "duration": 25,
    "start_time": "2023-04-20T19:23:11.411Z"
   },
   {
    "duration": 19,
    "start_time": "2023-04-20T19:23:11.438Z"
   },
   {
    "duration": 24,
    "start_time": "2023-04-20T19:23:11.459Z"
   },
   {
    "duration": 318,
    "start_time": "2023-04-20T19:23:11.485Z"
   },
   {
    "duration": 308,
    "start_time": "2023-04-20T19:23:11.805Z"
   },
   {
    "duration": 218,
    "start_time": "2023-04-20T19:23:12.115Z"
   },
   {
    "duration": 322,
    "start_time": "2023-04-20T19:23:12.341Z"
   },
   {
    "duration": 318,
    "start_time": "2023-04-20T19:23:12.665Z"
   },
   {
    "duration": 359,
    "start_time": "2023-04-20T19:23:12.986Z"
   },
   {
    "duration": 164,
    "start_time": "2023-04-20T19:23:13.347Z"
   },
   {
    "duration": 5,
    "start_time": "2023-04-20T19:23:13.513Z"
   },
   {
    "duration": 24,
    "start_time": "2023-04-20T19:23:13.520Z"
   },
   {
    "duration": 153,
    "start_time": "2023-04-20T19:23:13.545Z"
   },
   {
    "duration": 6,
    "start_time": "2023-04-20T19:23:13.699Z"
   },
   {
    "duration": 465,
    "start_time": "2023-04-20T19:23:13.706Z"
   },
   {
    "duration": 224,
    "start_time": "2023-04-20T19:23:14.172Z"
   },
   {
    "duration": 27,
    "start_time": "2023-04-20T19:23:14.398Z"
   },
   {
    "duration": 107,
    "start_time": "2023-04-20T19:23:14.427Z"
   },
   {
    "duration": 0,
    "start_time": "2023-04-20T19:23:14.541Z"
   },
   {
    "duration": 0,
    "start_time": "2023-04-20T19:23:14.543Z"
   },
   {
    "duration": 0,
    "start_time": "2023-04-20T19:23:14.544Z"
   },
   {
    "duration": 0,
    "start_time": "2023-04-20T19:23:14.545Z"
   },
   {
    "duration": 0,
    "start_time": "2023-04-20T19:23:14.546Z"
   },
   {
    "duration": 0,
    "start_time": "2023-04-20T19:23:14.547Z"
   },
   {
    "duration": 0,
    "start_time": "2023-04-20T19:23:14.548Z"
   },
   {
    "duration": 0,
    "start_time": "2023-04-20T19:23:14.550Z"
   },
   {
    "duration": 0,
    "start_time": "2023-04-20T19:23:14.551Z"
   },
   {
    "duration": 4,
    "start_time": "2023-04-20T19:29:22.210Z"
   },
   {
    "duration": 10,
    "start_time": "2023-04-20T19:29:23.094Z"
   },
   {
    "duration": 23,
    "start_time": "2023-04-20T19:29:23.238Z"
   },
   {
    "duration": 9,
    "start_time": "2023-04-20T19:29:23.540Z"
   },
   {
    "duration": 11,
    "start_time": "2023-04-20T19:29:24.164Z"
   },
   {
    "duration": 5,
    "start_time": "2023-04-20T19:29:24.328Z"
   },
   {
    "duration": 10,
    "start_time": "2023-04-20T19:29:24.494Z"
   },
   {
    "duration": 26,
    "start_time": "2023-04-20T19:29:24.660Z"
   },
   {
    "duration": 18,
    "start_time": "2023-04-20T19:29:25.462Z"
   },
   {
    "duration": 4,
    "start_time": "2023-04-20T19:55:59.187Z"
   },
   {
    "duration": 671,
    "start_time": "2023-04-21T15:24:12.631Z"
   },
   {
    "duration": 62,
    "start_time": "2023-04-21T15:24:13.304Z"
   },
   {
    "duration": 12,
    "start_time": "2023-04-21T15:24:13.367Z"
   },
   {
    "duration": 18,
    "start_time": "2023-04-21T15:24:13.381Z"
   },
   {
    "duration": 13,
    "start_time": "2023-04-21T15:24:13.401Z"
   },
   {
    "duration": 10,
    "start_time": "2023-04-21T15:24:13.416Z"
   },
   {
    "duration": 85,
    "start_time": "2023-04-21T15:24:13.428Z"
   },
   {
    "duration": 12,
    "start_time": "2023-04-21T15:24:13.514Z"
   },
   {
    "duration": 15,
    "start_time": "2023-04-21T15:24:13.527Z"
   },
   {
    "duration": 15,
    "start_time": "2023-04-21T15:24:13.543Z"
   },
   {
    "duration": 9,
    "start_time": "2023-04-21T15:24:13.559Z"
   },
   {
    "duration": 9,
    "start_time": "2023-04-21T15:24:13.569Z"
   },
   {
    "duration": 10,
    "start_time": "2023-04-21T15:24:13.580Z"
   },
   {
    "duration": 9,
    "start_time": "2023-04-21T15:24:13.592Z"
   },
   {
    "duration": 6,
    "start_time": "2023-04-21T15:24:13.602Z"
   },
   {
    "duration": 34,
    "start_time": "2023-04-21T15:24:13.609Z"
   },
   {
    "duration": 14,
    "start_time": "2023-04-21T15:24:13.645Z"
   },
   {
    "duration": 15,
    "start_time": "2023-04-21T15:24:13.660Z"
   },
   {
    "duration": 7,
    "start_time": "2023-04-21T15:24:13.676Z"
   },
   {
    "duration": 9,
    "start_time": "2023-04-21T15:24:13.684Z"
   },
   {
    "duration": 7,
    "start_time": "2023-04-21T15:24:13.695Z"
   },
   {
    "duration": 32,
    "start_time": "2023-04-21T15:24:13.704Z"
   },
   {
    "duration": 9,
    "start_time": "2023-04-21T15:24:13.738Z"
   },
   {
    "duration": 324,
    "start_time": "2023-04-21T15:24:13.749Z"
   },
   {
    "duration": 10,
    "start_time": "2023-04-21T15:24:14.075Z"
   },
   {
    "duration": 313,
    "start_time": "2023-04-21T15:24:14.087Z"
   },
   {
    "duration": 5,
    "start_time": "2023-04-21T15:24:14.401Z"
   },
   {
    "duration": 43,
    "start_time": "2023-04-21T15:24:14.407Z"
   },
   {
    "duration": 243,
    "start_time": "2023-04-21T15:24:14.452Z"
   },
   {
    "duration": 281,
    "start_time": "2023-04-21T15:24:14.697Z"
   },
   {
    "duration": 299,
    "start_time": "2023-04-21T15:24:14.981Z"
   },
   {
    "duration": 273,
    "start_time": "2023-04-21T15:24:15.282Z"
   },
   {
    "duration": 341,
    "start_time": "2023-04-21T15:24:15.557Z"
   },
   {
    "duration": 144,
    "start_time": "2023-04-21T15:24:15.900Z"
   },
   {
    "duration": 5,
    "start_time": "2023-04-21T15:24:16.046Z"
   },
   {
    "duration": 16,
    "start_time": "2023-04-21T15:24:16.052Z"
   },
   {
    "duration": 143,
    "start_time": "2023-04-21T15:24:16.069Z"
   },
   {
    "duration": 6,
    "start_time": "2023-04-21T15:24:16.214Z"
   },
   {
    "duration": 477,
    "start_time": "2023-04-21T15:24:16.222Z"
   },
   {
    "duration": 164,
    "start_time": "2023-04-21T15:24:16.701Z"
   },
   {
    "duration": 23,
    "start_time": "2023-04-21T15:24:16.868Z"
   },
   {
    "duration": 4,
    "start_time": "2023-04-21T15:24:16.893Z"
   },
   {
    "duration": 8,
    "start_time": "2023-04-21T15:24:16.898Z"
   },
   {
    "duration": 27,
    "start_time": "2023-04-21T15:24:16.907Z"
   },
   {
    "duration": 4,
    "start_time": "2023-04-21T15:24:16.936Z"
   },
   {
    "duration": 5,
    "start_time": "2023-04-21T15:24:16.942Z"
   },
   {
    "duration": 12,
    "start_time": "2023-04-21T15:24:16.948Z"
   },
   {
    "duration": 13,
    "start_time": "2023-04-21T15:24:16.961Z"
   },
   {
    "duration": 13,
    "start_time": "2023-04-21T15:24:16.976Z"
   },
   {
    "duration": 47,
    "start_time": "2023-04-21T15:24:16.991Z"
   },
   {
    "duration": 18,
    "start_time": "2023-04-21T15:24:17.040Z"
   }
  ],
  "kernelspec": {
   "display_name": "Python 3 (ipykernel)",
   "language": "python",
   "name": "python3"
  },
  "language_info": {
   "codemirror_mode": {
    "name": "ipython",
    "version": 3
   },
   "file_extension": ".py",
   "mimetype": "text/x-python",
   "name": "python",
   "nbconvert_exporter": "python",
   "pygments_lexer": "ipython3",
   "version": "3.9.13"
  },
  "toc": {
   "base_numbering": 1,
   "nav_menu": {},
   "number_sections": true,
   "sideBar": true,
   "skip_h1_title": true,
   "title_cell": "Table of Contents",
   "title_sidebar": "Contents",
   "toc_cell": false,
   "toc_position": {},
   "toc_section_display": true,
   "toc_window_display": false
  }
 },
 "nbformat": 4,
 "nbformat_minor": 5
}
