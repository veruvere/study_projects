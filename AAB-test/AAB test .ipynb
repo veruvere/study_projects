{
 "cells": [
  {
   "cell_type": "markdown",
   "id": "0857e074",
   "metadata": {},
   "source": [
    "# Описание проекта\n",
    "\n",
    "Задача: \n",
    "- выявить паттерн поведения пользователей интернет-магазина продуктов питания;\n",
    "- проанализировать результаты А/А/В эксперимента по эффективности смены шрифта для приложения"
   ]
  },
  {
   "cell_type": "markdown",
   "id": "36bdc6fc",
   "metadata": {},
   "source": [
    "# План исследования\n",
    "\n",
    "1. Предобработка данных\n",
    "2. Исследование воронки событий\n",
    "3. Анализ реультатов эксперимента\n",
    "4. Формирование рекомендаций для бизнеса"
   ]
  },
  {
   "cell_type": "markdown",
   "id": "1178255c",
   "metadata": {},
   "source": [
    "# Изучение и предобработка данных"
   ]
  },
  {
   "cell_type": "code",
   "execution_count": 1,
   "id": "e163a8b4",
   "metadata": {},
   "outputs": [],
   "source": [
    "#Импортируем библиотеки\n",
    "import pandas as pd\n",
    "import datetime as dt\n",
    "import numpy as np\n",
    "from datetime import datetime, date, time\n",
    "import matplotlib.pyplot as plt\n",
    "from plotly import graph_objects as go\n",
    "from scipy import stats as st\n",
    "import scipy.stats as stats\n",
    "import math as mth"
   ]
  },
  {
   "cell_type": "code",
   "execution_count": 2,
   "id": "6fa836cc",
   "metadata": {},
   "outputs": [],
   "source": [
    "#Загружаем таблицу с данными\n",
    "try:\n",
    "    data = pd.read_csv('logs_exp.csv', sep ='\\t')\n",
    "except:\n",
    "    data = pd.read_csv('/datasets/logs_exp.csv', sep ='\\t')"
   ]
  },
  {
   "cell_type": "code",
   "execution_count": 3,
   "id": "45a27329",
   "metadata": {},
   "outputs": [
    {
     "data": {
      "text/html": [
       "<div>\n",
       "<style scoped>\n",
       "    .dataframe tbody tr th:only-of-type {\n",
       "        vertical-align: middle;\n",
       "    }\n",
       "\n",
       "    .dataframe tbody tr th {\n",
       "        vertical-align: top;\n",
       "    }\n",
       "\n",
       "    .dataframe thead th {\n",
       "        text-align: right;\n",
       "    }\n",
       "</style>\n",
       "<table border=\"1\" class=\"dataframe\">\n",
       "  <thead>\n",
       "    <tr style=\"text-align: right;\">\n",
       "      <th></th>\n",
       "      <th>EventName</th>\n",
       "      <th>DeviceIDHash</th>\n",
       "      <th>EventTimestamp</th>\n",
       "      <th>ExpId</th>\n",
       "    </tr>\n",
       "  </thead>\n",
       "  <tbody>\n",
       "    <tr>\n",
       "      <th>0</th>\n",
       "      <td>MainScreenAppear</td>\n",
       "      <td>4575588528974610257</td>\n",
       "      <td>1564029816</td>\n",
       "      <td>246</td>\n",
       "    </tr>\n",
       "    <tr>\n",
       "      <th>1</th>\n",
       "      <td>MainScreenAppear</td>\n",
       "      <td>7416695313311560658</td>\n",
       "      <td>1564053102</td>\n",
       "      <td>246</td>\n",
       "    </tr>\n",
       "    <tr>\n",
       "      <th>2</th>\n",
       "      <td>PaymentScreenSuccessful</td>\n",
       "      <td>3518123091307005509</td>\n",
       "      <td>1564054127</td>\n",
       "      <td>248</td>\n",
       "    </tr>\n",
       "    <tr>\n",
       "      <th>3</th>\n",
       "      <td>CartScreenAppear</td>\n",
       "      <td>3518123091307005509</td>\n",
       "      <td>1564054127</td>\n",
       "      <td>248</td>\n",
       "    </tr>\n",
       "    <tr>\n",
       "      <th>4</th>\n",
       "      <td>PaymentScreenSuccessful</td>\n",
       "      <td>6217807653094995999</td>\n",
       "      <td>1564055322</td>\n",
       "      <td>248</td>\n",
       "    </tr>\n",
       "    <tr>\n",
       "      <th>...</th>\n",
       "      <td>...</td>\n",
       "      <td>...</td>\n",
       "      <td>...</td>\n",
       "      <td>...</td>\n",
       "    </tr>\n",
       "    <tr>\n",
       "      <th>244121</th>\n",
       "      <td>MainScreenAppear</td>\n",
       "      <td>4599628364049201812</td>\n",
       "      <td>1565212345</td>\n",
       "      <td>247</td>\n",
       "    </tr>\n",
       "    <tr>\n",
       "      <th>244122</th>\n",
       "      <td>MainScreenAppear</td>\n",
       "      <td>5849806612437486590</td>\n",
       "      <td>1565212439</td>\n",
       "      <td>246</td>\n",
       "    </tr>\n",
       "    <tr>\n",
       "      <th>244123</th>\n",
       "      <td>MainScreenAppear</td>\n",
       "      <td>5746969938801999050</td>\n",
       "      <td>1565212483</td>\n",
       "      <td>246</td>\n",
       "    </tr>\n",
       "    <tr>\n",
       "      <th>244124</th>\n",
       "      <td>MainScreenAppear</td>\n",
       "      <td>5746969938801999050</td>\n",
       "      <td>1565212498</td>\n",
       "      <td>246</td>\n",
       "    </tr>\n",
       "    <tr>\n",
       "      <th>244125</th>\n",
       "      <td>OffersScreenAppear</td>\n",
       "      <td>5746969938801999050</td>\n",
       "      <td>1565212517</td>\n",
       "      <td>246</td>\n",
       "    </tr>\n",
       "  </tbody>\n",
       "</table>\n",
       "<p>244126 rows × 4 columns</p>\n",
       "</div>"
      ],
      "text/plain": [
       "                      EventName         DeviceIDHash  EventTimestamp  ExpId\n",
       "0              MainScreenAppear  4575588528974610257      1564029816    246\n",
       "1              MainScreenAppear  7416695313311560658      1564053102    246\n",
       "2       PaymentScreenSuccessful  3518123091307005509      1564054127    248\n",
       "3              CartScreenAppear  3518123091307005509      1564054127    248\n",
       "4       PaymentScreenSuccessful  6217807653094995999      1564055322    248\n",
       "...                         ...                  ...             ...    ...\n",
       "244121         MainScreenAppear  4599628364049201812      1565212345    247\n",
       "244122         MainScreenAppear  5849806612437486590      1565212439    246\n",
       "244123         MainScreenAppear  5746969938801999050      1565212483    246\n",
       "244124         MainScreenAppear  5746969938801999050      1565212498    246\n",
       "244125       OffersScreenAppear  5746969938801999050      1565212517    246\n",
       "\n",
       "[244126 rows x 4 columns]"
      ]
     },
     "execution_count": 3,
     "metadata": {},
     "output_type": "execute_result"
    }
   ],
   "source": [
    "data"
   ]
  },
  {
   "cell_type": "code",
   "execution_count": 4,
   "id": "e8337757",
   "metadata": {},
   "outputs": [
    {
     "name": "stdout",
     "output_type": "stream",
     "text": [
      "<class 'pandas.core.frame.DataFrame'>\n",
      "RangeIndex: 244126 entries, 0 to 244125\n",
      "Data columns (total 4 columns):\n",
      " #   Column          Non-Null Count   Dtype \n",
      "---  ------          --------------   ----- \n",
      " 0   EventName       244126 non-null  object\n",
      " 1   DeviceIDHash    244126 non-null  int64 \n",
      " 2   EventTimestamp  244126 non-null  int64 \n",
      " 3   ExpId           244126 non-null  int64 \n",
      "dtypes: int64(3), object(1)\n",
      "memory usage: 7.5+ MB\n"
     ]
    }
   ],
   "source": [
    "#Смотрим информацию по датасету\n",
    "data.info()"
   ]
  },
  {
   "cell_type": "code",
   "execution_count": 5,
   "id": "b3a4b465",
   "metadata": {},
   "outputs": [],
   "source": [
    "#данные полные, пропусков нет\n",
    "#приведем названия столбцов к единому стилю\n",
    "data.columns = ['event_name', 'device_id', 'event_ts', 'exp_id']"
   ]
  },
  {
   "cell_type": "code",
   "execution_count": 6,
   "id": "fbfa44a0",
   "metadata": {},
   "outputs": [],
   "source": [
    "#добавим столбец с датой и временем\n",
    "data['dt'] = pd.to_datetime(data['event_ts'], unit=\"s\")\n",
    "#добавим отдельный столбец с датой\n",
    "data['date'] = data['dt'].dt.date"
   ]
  },
  {
   "cell_type": "code",
   "execution_count": 7,
   "id": "55b3be62",
   "metadata": {},
   "outputs": [
    {
     "data": {
      "text/plain": [
       "413"
      ]
     },
     "execution_count": 7,
     "metadata": {},
     "output_type": "execute_result"
    }
   ],
   "source": [
    "# проверяем таблицу на наличие дубликатов\n",
    "data.duplicated().sum()"
   ]
  },
  {
   "cell_type": "code",
   "execution_count": 8,
   "id": "7e5ac5e0",
   "metadata": {},
   "outputs": [
    {
     "data": {
      "text/plain": [
       "0"
      ]
     },
     "execution_count": 8,
     "metadata": {},
     "output_type": "execute_result"
    }
   ],
   "source": [
    "# удаление дубликатов\n",
    "data = data.drop_duplicates().reset_index(drop=True)\n",
    "data.duplicated().sum()"
   ]
  },
  {
   "cell_type": "code",
   "execution_count": 9,
   "id": "127b19e9",
   "metadata": {},
   "outputs": [
    {
     "data": {
      "text/plain": [
       "event_name    0\n",
       "device_id     0\n",
       "event_ts      0\n",
       "exp_id        0\n",
       "dt            0\n",
       "date          0\n",
       "dtype: int64"
      ]
     },
     "execution_count": 9,
     "metadata": {},
     "output_type": "execute_result"
    }
   ],
   "source": [
    "#проверяем таблицу на наличие пропусков\n",
    "data.isna().sum()"
   ]
  },
  {
   "cell_type": "code",
   "execution_count": 10,
   "id": "b0cd340f",
   "metadata": {},
   "outputs": [
    {
     "data": {
      "text/plain": [
       "5"
      ]
     },
     "execution_count": 10,
     "metadata": {},
     "output_type": "execute_result"
    }
   ],
   "source": [
    "#смотрим, сколько событий в логе\n",
    "data['event_name'].nunique()"
   ]
  },
  {
   "cell_type": "code",
   "execution_count": 11,
   "id": "74d037ec",
   "metadata": {},
   "outputs": [
    {
     "data": {
      "text/plain": [
       "7551"
      ]
     },
     "execution_count": 11,
     "metadata": {},
     "output_type": "execute_result"
    }
   ],
   "source": [
    "#cколько всего пользователей в логе\n",
    "data['device_id'].nunique()"
   ]
  },
  {
   "cell_type": "code",
   "execution_count": 12,
   "id": "3a9e1c29",
   "metadata": {},
   "outputs": [
    {
     "data": {
      "text/plain": [
       "32.27559263673685"
      ]
     },
     "execution_count": 12,
     "metadata": {},
     "output_type": "execute_result"
    }
   ],
   "source": [
    "#cколько в среднем событий приходится на пользователя\n",
    "event_avg = data.groupby('device_id').agg({'event_name':'count'})\n",
    "event_avg['event_name'].mean()"
   ]
  },
  {
   "cell_type": "code",
   "execution_count": 13,
   "id": "e5d0cc80",
   "metadata": {},
   "outputs": [
    {
     "data": {
      "text/plain": [
       "datetime.date(2019, 7, 25)"
      ]
     },
     "execution_count": 13,
     "metadata": {},
     "output_type": "execute_result"
    }
   ],
   "source": [
    "#найдем максимальную и минимальную дату в таблице\n",
    "data['date'].min()"
   ]
  },
  {
   "cell_type": "code",
   "execution_count": 14,
   "id": "4fd41044",
   "metadata": {},
   "outputs": [
    {
     "data": {
      "text/plain": [
       "datetime.date(2019, 8, 7)"
      ]
     },
     "execution_count": 14,
     "metadata": {},
     "output_type": "execute_result"
    }
   ],
   "source": [
    "data['date'].max()"
   ]
  },
  {
   "cell_type": "code",
   "execution_count": 15,
   "id": "226841df",
   "metadata": {},
   "outputs": [
    {
     "data": {
      "image/png": "[encoded data removed]",
      "text/plain": [
       "<Figure size 432x288 with 1 Axes>"
      ]
     },
     "metadata": {
      "needs_background": "light"
     },
     "output_type": "display_data"
    }
   ],
   "source": [
    "#построим гистограмму по дате и времени\n",
    "data['dt'].hist()\n",
    "plt.xticks(rotation = 45)\n",
    "plt.title('Гистограмма распределения по дате и времени')\n",
    "plt.xlabel('Дата и время')\n",
    "plt.ylabel('Кол-во записей');"
   ]
  },
  {
   "cell_type": "markdown",
   "id": "c06c37fa",
   "metadata": {},
   "source": [
    "Поскольку нельзя быть уверенным, что у нас одинаково полные данные за весь период, так как технически в логи новых дней по некоторым пользователям могут «доезжать» события из прошлого — это может «перекашивать данные». Судя по графику, данные полные с 1 августа 2019. Отбросим более старые данные."
   ]
  },
  {
   "cell_type": "code",
   "execution_count": 16,
   "id": "cc61cce0",
   "metadata": {},
   "outputs": [
    {
     "name": "stdout",
     "output_type": "stream",
     "text": [
      "<class 'pandas.core.frame.DataFrame'>\n",
      "RangeIndex: 243713 entries, 0 to 243712\n",
      "Data columns (total 6 columns):\n",
      " #   Column      Non-Null Count   Dtype         \n",
      "---  ------      --------------   -----         \n",
      " 0   event_name  243713 non-null  object        \n",
      " 1   device_id   243713 non-null  int64         \n",
      " 2   event_ts    243713 non-null  int64         \n",
      " 3   exp_id      243713 non-null  int64         \n",
      " 4   dt          243713 non-null  datetime64[ns]\n",
      " 5   date        243713 non-null  object        \n",
      "dtypes: datetime64[ns](1), int64(3), object(2)\n",
      "memory usage: 11.2+ MB\n"
     ]
    }
   ],
   "source": [
    "data.info()"
   ]
  },
  {
   "cell_type": "code",
   "execution_count": 17,
   "id": "f70788c5",
   "metadata": {},
   "outputs": [
    {
     "data": {
      "text/html": [
       "<div>\n",
       "<style scoped>\n",
       "    .dataframe tbody tr th:only-of-type {\n",
       "        vertical-align: middle;\n",
       "    }\n",
       "\n",
       "    .dataframe tbody tr th {\n",
       "        vertical-align: top;\n",
       "    }\n",
       "\n",
       "    .dataframe thead th {\n",
       "        text-align: right;\n",
       "    }\n",
       "</style>\n",
       "<table border=\"1\" class=\"dataframe\">\n",
       "  <thead>\n",
       "    <tr style=\"text-align: right;\">\n",
       "      <th></th>\n",
       "      <th>event_name</th>\n",
       "      <th>device_id</th>\n",
       "      <th>event_ts</th>\n",
       "      <th>exp_id</th>\n",
       "      <th>dt</th>\n",
       "      <th>date</th>\n",
       "    </tr>\n",
       "  </thead>\n",
       "  <tbody>\n",
       "    <tr>\n",
       "      <th>2826</th>\n",
       "      <td>Tutorial</td>\n",
       "      <td>3737462046622621720</td>\n",
       "      <td>1564618048</td>\n",
       "      <td>246</td>\n",
       "      <td>2019-08-01 00:07:28</td>\n",
       "      <td>2019-08-01</td>\n",
       "    </tr>\n",
       "    <tr>\n",
       "      <th>2827</th>\n",
       "      <td>MainScreenAppear</td>\n",
       "      <td>3737462046622621720</td>\n",
       "      <td>1564618080</td>\n",
       "      <td>246</td>\n",
       "      <td>2019-08-01 00:08:00</td>\n",
       "      <td>2019-08-01</td>\n",
       "    </tr>\n",
       "    <tr>\n",
       "      <th>2828</th>\n",
       "      <td>MainScreenAppear</td>\n",
       "      <td>3737462046622621720</td>\n",
       "      <td>1564618135</td>\n",
       "      <td>246</td>\n",
       "      <td>2019-08-01 00:08:55</td>\n",
       "      <td>2019-08-01</td>\n",
       "    </tr>\n",
       "    <tr>\n",
       "      <th>2829</th>\n",
       "      <td>OffersScreenAppear</td>\n",
       "      <td>3737462046622621720</td>\n",
       "      <td>1564618138</td>\n",
       "      <td>246</td>\n",
       "      <td>2019-08-01 00:08:58</td>\n",
       "      <td>2019-08-01</td>\n",
       "    </tr>\n",
       "    <tr>\n",
       "      <th>2830</th>\n",
       "      <td>MainScreenAppear</td>\n",
       "      <td>1433840883824088890</td>\n",
       "      <td>1564618139</td>\n",
       "      <td>247</td>\n",
       "      <td>2019-08-01 00:08:59</td>\n",
       "      <td>2019-08-01</td>\n",
       "    </tr>\n",
       "    <tr>\n",
       "      <th>...</th>\n",
       "      <td>...</td>\n",
       "      <td>...</td>\n",
       "      <td>...</td>\n",
       "      <td>...</td>\n",
       "      <td>...</td>\n",
       "      <td>...</td>\n",
       "    </tr>\n",
       "    <tr>\n",
       "      <th>243708</th>\n",
       "      <td>MainScreenAppear</td>\n",
       "      <td>4599628364049201812</td>\n",
       "      <td>1565212345</td>\n",
       "      <td>247</td>\n",
       "      <td>2019-08-07 21:12:25</td>\n",
       "      <td>2019-08-07</td>\n",
       "    </tr>\n",
       "    <tr>\n",
       "      <th>243709</th>\n",
       "      <td>MainScreenAppear</td>\n",
       "      <td>5849806612437486590</td>\n",
       "      <td>1565212439</td>\n",
       "      <td>246</td>\n",
       "      <td>2019-08-07 21:13:59</td>\n",
       "      <td>2019-08-07</td>\n",
       "    </tr>\n",
       "    <tr>\n",
       "      <th>243710</th>\n",
       "      <td>MainScreenAppear</td>\n",
       "      <td>5746969938801999050</td>\n",
       "      <td>1565212483</td>\n",
       "      <td>246</td>\n",
       "      <td>2019-08-07 21:14:43</td>\n",
       "      <td>2019-08-07</td>\n",
       "    </tr>\n",
       "    <tr>\n",
       "      <th>243711</th>\n",
       "      <td>MainScreenAppear</td>\n",
       "      <td>5746969938801999050</td>\n",
       "      <td>1565212498</td>\n",
       "      <td>246</td>\n",
       "      <td>2019-08-07 21:14:58</td>\n",
       "      <td>2019-08-07</td>\n",
       "    </tr>\n",
       "    <tr>\n",
       "      <th>243712</th>\n",
       "      <td>OffersScreenAppear</td>\n",
       "      <td>5746969938801999050</td>\n",
       "      <td>1565212517</td>\n",
       "      <td>246</td>\n",
       "      <td>2019-08-07 21:15:17</td>\n",
       "      <td>2019-08-07</td>\n",
       "    </tr>\n",
       "  </tbody>\n",
       "</table>\n",
       "<p>240887 rows × 6 columns</p>\n",
       "</div>"
      ],
      "text/plain": [
       "                event_name            device_id    event_ts  exp_id  \\\n",
       "2826              Tutorial  3737462046622621720  1564618048     246   \n",
       "2827      MainScreenAppear  3737462046622621720  1564618080     246   \n",
       "2828      MainScreenAppear  3737462046622621720  1564618135     246   \n",
       "2829    OffersScreenAppear  3737462046622621720  1564618138     246   \n",
       "2830      MainScreenAppear  1433840883824088890  1564618139     247   \n",
       "...                    ...                  ...         ...     ...   \n",
       "243708    MainScreenAppear  4599628364049201812  1565212345     247   \n",
       "243709    MainScreenAppear  5849806612437486590  1565212439     246   \n",
       "243710    MainScreenAppear  5746969938801999050  1565212483     246   \n",
       "243711    MainScreenAppear  5746969938801999050  1565212498     246   \n",
       "243712  OffersScreenAppear  5746969938801999050  1565212517     246   \n",
       "\n",
       "                        dt       date  \n",
       "2826   2019-08-01 00:07:28 2019-08-01  \n",
       "2827   2019-08-01 00:08:00 2019-08-01  \n",
       "2828   2019-08-01 00:08:55 2019-08-01  \n",
       "2829   2019-08-01 00:08:58 2019-08-01  \n",
       "2830   2019-08-01 00:08:59 2019-08-01  \n",
       "...                    ...        ...  \n",
       "243708 2019-08-07 21:12:25 2019-08-07  \n",
       "243709 2019-08-07 21:13:59 2019-08-07  \n",
       "243710 2019-08-07 21:14:43 2019-08-07  \n",
       "243711 2019-08-07 21:14:58 2019-08-07  \n",
       "243712 2019-08-07 21:15:17 2019-08-07  \n",
       "\n",
       "[240887 rows x 6 columns]"
      ]
     },
     "execution_count": 17,
     "metadata": {},
     "output_type": "execute_result"
    }
   ],
   "source": [
    "data['date'] = pd.to_datetime(data['date'])\n",
    "data_new = data[(data['date'] > '2019-07-31')]\n",
    "data_new"
   ]
  },
  {
   "cell_type": "code",
   "execution_count": 18,
   "id": "a4ee3cd6",
   "metadata": {},
   "outputs": [
    {
     "name": "stdout",
     "output_type": "stream",
     "text": [
      "Потери в количестве событий после \"чистки\": 2826\n",
      "Процент потерянных событий: 1.16%\n",
      "Потери в количестве уникальных пользователей приложения после \"чистки\": 17\n",
      "Процент потерянных пользователей: 0.23%\n"
     ]
    }
   ],
   "source": [
    "#выведем долю отфильтрованных данных\n",
    "print('Потери в количестве событий после \"чистки\":', len(data) - len(data_new))\n",
    "print(f'Процент потерянных событий:','{0:.2%}'.format((len(data) - len(data_new)) / len(data)))\n",
    "print('Потери в количестве уникальных пользователей приложения после \"чистки\":', \n",
    "      data['device_id'].nunique() - data_new['device_id'].nunique())\n",
    "print(f'Процент потерянных пользователей:',\n",
    "      '{0:.2%}'.format((data['device_id'].nunique() - data_new['device_id'].nunique())/data['device_id'].nunique()))"
   ]
  },
  {
   "cell_type": "code",
   "execution_count": 19,
   "id": "f08b18c8",
   "metadata": {},
   "outputs": [
    {
     "data": {
      "text/html": [
       "<div>\n",
       "<style scoped>\n",
       "    .dataframe tbody tr th:only-of-type {\n",
       "        vertical-align: middle;\n",
       "    }\n",
       "\n",
       "    .dataframe tbody tr th {\n",
       "        vertical-align: top;\n",
       "    }\n",
       "\n",
       "    .dataframe thead th {\n",
       "        text-align: right;\n",
       "    }\n",
       "</style>\n",
       "<table border=\"1\" class=\"dataframe\">\n",
       "  <thead>\n",
       "    <tr style=\"text-align: right;\">\n",
       "      <th></th>\n",
       "      <th>device_id</th>\n",
       "    </tr>\n",
       "    <tr>\n",
       "      <th>exp_id</th>\n",
       "      <th></th>\n",
       "    </tr>\n",
       "  </thead>\n",
       "  <tbody>\n",
       "    <tr>\n",
       "      <th>246</th>\n",
       "      <td>2484</td>\n",
       "    </tr>\n",
       "    <tr>\n",
       "      <th>247</th>\n",
       "      <td>2513</td>\n",
       "    </tr>\n",
       "    <tr>\n",
       "      <th>248</th>\n",
       "      <td>2537</td>\n",
       "    </tr>\n",
       "  </tbody>\n",
       "</table>\n",
       "</div>"
      ],
      "text/plain": [
       "        device_id\n",
       "exp_id           \n",
       "246          2484\n",
       "247          2513\n",
       "248          2537"
      ]
     },
     "execution_count": 19,
     "metadata": {},
     "output_type": "execute_result"
    }
   ],
   "source": [
    "#сколько пользователей попало в каждую из экспериментальных групп \n",
    "groups = data_new.groupby('exp_id').agg({'device_id':'nunique'})\n",
    "groups"
   ]
  },
  {
   "cell_type": "markdown",
   "id": "ea78bbed",
   "metadata": {},
   "source": [
    "## Вывод по разделу\n",
    "\n",
    "В результате предобработки датафрейм имеет 6 колонок с действиями пользователя в приложении. \n",
    "Всего строк в таблице 241298. \n",
    "\n",
    "В дальнейшем мы будем анализировать данные за период с 1 по 7 августа 2019 года. \n",
    "Во всех трех экспериментальных группах есть примерно одинаковое количество пользователей (~2500)."
   ]
  },
  {
   "cell_type": "markdown",
   "id": "c1343962",
   "metadata": {},
   "source": [
    "# Исследование воронки событий"
   ]
  },
  {
   "cell_type": "code",
   "execution_count": 20,
   "id": "c88c08cd",
   "metadata": {},
   "outputs": [
    {
     "data": {
      "text/plain": [
       "MainScreenAppear           117328\n",
       "OffersScreenAppear          46333\n",
       "CartScreenAppear            42303\n",
       "PaymentScreenSuccessful     33918\n",
       "Tutorial                     1005\n",
       "Name: event_name, dtype: int64"
      ]
     },
     "execution_count": 20,
     "metadata": {},
     "output_type": "execute_result"
    }
   ],
   "source": [
    "#посмотрим, какие события есть в логах и как часто они встречаются\n",
    "data_new['event_name'].value_counts().sort_values(ascending=False)"
   ]
  },
  {
   "cell_type": "code",
   "execution_count": 21,
   "id": "480a0a4a",
   "metadata": {},
   "outputs": [
    {
     "data": {
      "text/html": [
       "<div>\n",
       "<style scoped>\n",
       "    .dataframe tbody tr th:only-of-type {\n",
       "        vertical-align: middle;\n",
       "    }\n",
       "\n",
       "    .dataframe tbody tr th {\n",
       "        vertical-align: top;\n",
       "    }\n",
       "\n",
       "    .dataframe thead th {\n",
       "        text-align: right;\n",
       "    }\n",
       "</style>\n",
       "<table border=\"1\" class=\"dataframe\">\n",
       "  <thead>\n",
       "    <tr style=\"text-align: right;\">\n",
       "      <th></th>\n",
       "      <th>device_id</th>\n",
       "      <th>proportion</th>\n",
       "    </tr>\n",
       "    <tr>\n",
       "      <th>event_name</th>\n",
       "      <th></th>\n",
       "      <th></th>\n",
       "    </tr>\n",
       "  </thead>\n",
       "  <tbody>\n",
       "    <tr>\n",
       "      <th>MainScreenAppear</th>\n",
       "      <td>7419</td>\n",
       "      <td>36.86</td>\n",
       "    </tr>\n",
       "    <tr>\n",
       "      <th>OffersScreenAppear</th>\n",
       "      <td>4593</td>\n",
       "      <td>22.82</td>\n",
       "    </tr>\n",
       "    <tr>\n",
       "      <th>CartScreenAppear</th>\n",
       "      <td>3734</td>\n",
       "      <td>18.55</td>\n",
       "    </tr>\n",
       "    <tr>\n",
       "      <th>PaymentScreenSuccessful</th>\n",
       "      <td>3539</td>\n",
       "      <td>17.59</td>\n",
       "    </tr>\n",
       "    <tr>\n",
       "      <th>Tutorial</th>\n",
       "      <td>840</td>\n",
       "      <td>4.17</td>\n",
       "    </tr>\n",
       "  </tbody>\n",
       "</table>\n",
       "</div>"
      ],
      "text/plain": [
       "                         device_id  proportion\n",
       "event_name                                    \n",
       "MainScreenAppear              7419       36.86\n",
       "OffersScreenAppear            4593       22.82\n",
       "CartScreenAppear              3734       18.55\n",
       "PaymentScreenSuccessful       3539       17.59\n",
       "Tutorial                       840        4.17"
      ]
     },
     "execution_count": 21,
     "metadata": {},
     "output_type": "execute_result"
    }
   ],
   "source": [
    "#сколько пользователей совершали каждое из этих событий\n",
    "users = data_new.groupby('event_name').agg({'device_id':'nunique'}).sort_values('device_id', ascending=False)\n",
    "users['proportion'] = users['device_id']/users['device_id'].sum()*100\n",
    "users['proportion'] = users['proportion'].round(2)\n",
    "users"
   ]
  },
  {
   "cell_type": "markdown",
   "id": "3c895a58",
   "metadata": {},
   "source": [
    "Судя по табличке самым популярным действием является посещение главной страницы (MainScreenAppear) - его совершили 117431 раз 7419 пользователей (~37%). \n",
    "\n",
    "Далее идет посещение страницы с товаром (OffersScreenAppear) - 46350 раз на него зашли 4593 посетителей (~23%).\n",
    "\n",
    "Страницу с корзиной (CartScreenAppear) посетили 3734 пользователей (~19%) 42365 раз.\n",
    "\n",
    "Успешно оплатили заказ (PaymentScreenSuccessful) 3539 клиентов (~18%) 34113 раз.\n",
    "\n",
    "И наименее популярным у пользователей действием является прохождение обучения по пользованию сайтом (Tutorial). Им воспользовалось 840 клиентов (~4%) 1039 раз.\n",
    "\n",
    "Скорее всего пользователь сначала должен пройти туториал, потом открывается главная страница, затем пользователь заходит на страничку понравившегося товара, после этого он должен добавить его в корзину, зайти в корзину, оплатить товар и увидеть страничку успешной оплаты. Однако, прохождение обучения не является обязательным шагом и не входит в воронку. В дальнейшем мы не будем учитывать это действие. "
   ]
  },
  {
   "cell_type": "code",
   "execution_count": 22,
   "id": "3b8b9e7c",
   "metadata": {},
   "outputs": [
    {
     "data": {
      "text/plain": [
       "MainScreenAppear           117328\n",
       "OffersScreenAppear          46333\n",
       "CartScreenAppear            42303\n",
       "PaymentScreenSuccessful     33918\n",
       "Name: event_name, dtype: int64"
      ]
     },
     "execution_count": 22,
     "metadata": {},
     "output_type": "execute_result"
    }
   ],
   "source": [
    "#фильтруем данные, убрав tutorial из датасета\n",
    "data_filtered = data_new.query('event_name != \"Tutorial\"').copy()\n",
    "data_filtered['event_name'].value_counts()"
   ]
  },
  {
   "cell_type": "code",
   "execution_count": 23,
   "id": "0a402c5f",
   "metadata": {},
   "outputs": [],
   "source": [
    "# определяем переменные для создания воронки\n",
    "funnel_A1 = data_filtered[data_filtered['exp_id'] == 246].groupby('event_name').agg({'event_name':'count', 'device_id':'nunique'})\n",
    "funnel_A1.columns = ['event_count','user_count']\n",
    "funnel_A1 = funnel_A1.sort_values(by = 'event_count', ascending = False).reset_index()\n",
    "\n",
    "funnel_A2 = data_filtered[data_filtered['exp_id']==247].groupby('event_name').agg({'event_name':'count', 'device_id':'nunique'})\n",
    "funnel_A2.columns = ['event_count','user_count']\n",
    "funnel_A2 = funnel_A2.sort_values(by = 'event_count', ascending = False).reset_index()\n",
    "\n",
    "funnel_B = data_filtered[data_filtered['exp_id']==248].groupby('event_name').agg({'event_name':'count', 'device_id':'nunique'})\n",
    "funnel_B.columns = ['event_count','user_count']\n",
    "funnel_B = funnel_B.sort_values(by = 'event_count', ascending = False).reset_index()"
   ]
  },
  {
   "cell_type": "code",
   "execution_count": 24,
   "id": "525512db",
   "metadata": {},
   "outputs": [
    {
     "data": {
      "text/html": [
       "<div>\n",
       "<style scoped>\n",
       "    .dataframe tbody tr th:only-of-type {\n",
       "        vertical-align: middle;\n",
       "    }\n",
       "\n",
       "    .dataframe tbody tr th {\n",
       "        vertical-align: top;\n",
       "    }\n",
       "\n",
       "    .dataframe thead th {\n",
       "        text-align: right;\n",
       "    }\n",
       "</style>\n",
       "<table border=\"1\" class=\"dataframe\">\n",
       "  <thead>\n",
       "    <tr style=\"text-align: right;\">\n",
       "      <th></th>\n",
       "      <th>event_name</th>\n",
       "      <th>event_count</th>\n",
       "      <th>user_count</th>\n",
       "      <th>shift</th>\n",
       "      <th>step_conv</th>\n",
       "      <th>conversion</th>\n",
       "    </tr>\n",
       "  </thead>\n",
       "  <tbody>\n",
       "    <tr>\n",
       "      <th>0</th>\n",
       "      <td>MainScreenAppear</td>\n",
       "      <td>37676</td>\n",
       "      <td>2450</td>\n",
       "      <td>NaN</td>\n",
       "      <td>NaN</td>\n",
       "      <td>100.00</td>\n",
       "    </tr>\n",
       "    <tr>\n",
       "      <th>1</th>\n",
       "      <td>OffersScreenAppear</td>\n",
       "      <td>14767</td>\n",
       "      <td>1542</td>\n",
       "      <td>2450.0</td>\n",
       "      <td>62.94</td>\n",
       "      <td>62.94</td>\n",
       "    </tr>\n",
       "    <tr>\n",
       "      <th>2</th>\n",
       "      <td>CartScreenAppear</td>\n",
       "      <td>14690</td>\n",
       "      <td>1266</td>\n",
       "      <td>1542.0</td>\n",
       "      <td>82.10</td>\n",
       "      <td>51.67</td>\n",
       "    </tr>\n",
       "    <tr>\n",
       "      <th>3</th>\n",
       "      <td>PaymentScreenSuccessful</td>\n",
       "      <td>11852</td>\n",
       "      <td>1200</td>\n",
       "      <td>1266.0</td>\n",
       "      <td>94.79</td>\n",
       "      <td>48.98</td>\n",
       "    </tr>\n",
       "  </tbody>\n",
       "</table>\n",
       "</div>"
      ],
      "text/plain": [
       "                event_name  event_count  user_count   shift  step_conv  \\\n",
       "0         MainScreenAppear        37676        2450     NaN        NaN   \n",
       "1       OffersScreenAppear        14767        1542  2450.0      62.94   \n",
       "2         CartScreenAppear        14690        1266  1542.0      82.10   \n",
       "3  PaymentScreenSuccessful        11852        1200  1266.0      94.79   \n",
       "\n",
       "   conversion  \n",
       "0      100.00  \n",
       "1       62.94  \n",
       "2       51.67  \n",
       "3       48.98  "
      ]
     },
     "execution_count": 24,
     "metadata": {},
     "output_type": "execute_result"
    }
   ],
   "source": [
    "funnel_A1['shift'] = funnel_A1['user_count'].shift(1)\n",
    "\n",
    "#добавим колонку с долей переходов с шага на шаг\n",
    "funnel_A1['step_conv'] = funnel_A1['user_count']/funnel_A1['shift']*100 \n",
    "funnel_A1['step_conv'] = funnel_A1['step_conv'].round(2)\n",
    "\n",
    "#добавим колонку с общей конверсией\n",
    "funnel_A1['conversion'] = funnel_A1['user_count']/2450*100\n",
    "funnel_A1['conversion'] = funnel_A1['conversion'].round(2)\n",
    "funnel_A1"
   ]
  },
  {
   "cell_type": "code",
   "execution_count": 25,
   "id": "a875451f",
   "metadata": {},
   "outputs": [
    {
     "data": {
      "text/html": [
       "<div>\n",
       "<style scoped>\n",
       "    .dataframe tbody tr th:only-of-type {\n",
       "        vertical-align: middle;\n",
       "    }\n",
       "\n",
       "    .dataframe tbody tr th {\n",
       "        vertical-align: top;\n",
       "    }\n",
       "\n",
       "    .dataframe thead th {\n",
       "        text-align: right;\n",
       "    }\n",
       "</style>\n",
       "<table border=\"1\" class=\"dataframe\">\n",
       "  <thead>\n",
       "    <tr style=\"text-align: right;\">\n",
       "      <th></th>\n",
       "      <th>event_name</th>\n",
       "      <th>event_count</th>\n",
       "      <th>user_count</th>\n",
       "      <th>shift</th>\n",
       "      <th>step_conv</th>\n",
       "      <th>conversion</th>\n",
       "    </tr>\n",
       "  </thead>\n",
       "  <tbody>\n",
       "    <tr>\n",
       "      <th>0</th>\n",
       "      <td>MainScreenAppear</td>\n",
       "      <td>39090</td>\n",
       "      <td>2476</td>\n",
       "      <td>NaN</td>\n",
       "      <td>NaN</td>\n",
       "      <td>100.00</td>\n",
       "    </tr>\n",
       "    <tr>\n",
       "      <th>1</th>\n",
       "      <td>OffersScreenAppear</td>\n",
       "      <td>15179</td>\n",
       "      <td>1520</td>\n",
       "      <td>2476.0</td>\n",
       "      <td>61.39</td>\n",
       "      <td>61.39</td>\n",
       "    </tr>\n",
       "    <tr>\n",
       "      <th>2</th>\n",
       "      <td>CartScreenAppear</td>\n",
       "      <td>12434</td>\n",
       "      <td>1238</td>\n",
       "      <td>1520.0</td>\n",
       "      <td>81.45</td>\n",
       "      <td>50.00</td>\n",
       "    </tr>\n",
       "    <tr>\n",
       "      <th>3</th>\n",
       "      <td>PaymentScreenSuccessful</td>\n",
       "      <td>9981</td>\n",
       "      <td>1158</td>\n",
       "      <td>1238.0</td>\n",
       "      <td>93.54</td>\n",
       "      <td>46.77</td>\n",
       "    </tr>\n",
       "  </tbody>\n",
       "</table>\n",
       "</div>"
      ],
      "text/plain": [
       "                event_name  event_count  user_count   shift  step_conv  \\\n",
       "0         MainScreenAppear        39090        2476     NaN        NaN   \n",
       "1       OffersScreenAppear        15179        1520  2476.0      61.39   \n",
       "2         CartScreenAppear        12434        1238  1520.0      81.45   \n",
       "3  PaymentScreenSuccessful         9981        1158  1238.0      93.54   \n",
       "\n",
       "   conversion  \n",
       "0      100.00  \n",
       "1       61.39  \n",
       "2       50.00  \n",
       "3       46.77  "
      ]
     },
     "execution_count": 25,
     "metadata": {},
     "output_type": "execute_result"
    }
   ],
   "source": [
    "funnel_A2['shift'] = funnel_A2['user_count'].shift(1)\n",
    "\n",
    "#добавим колонку с долей переходов с шага на шаг\n",
    "funnel_A2['step_conv'] = funnel_A2['user_count']/funnel_A2['shift']*100 \n",
    "funnel_A2['step_conv'] = funnel_A2['step_conv'].round(2)\n",
    "\n",
    "#добавим колонку с общей конверсией\n",
    "funnel_A2['conversion'] = funnel_A2['user_count']/2476*100\n",
    "funnel_A2['conversion'] = funnel_A2['conversion'].round(2)\n",
    "funnel_A2"
   ]
  },
  {
   "cell_type": "code",
   "execution_count": 26,
   "id": "cf5e7fd0",
   "metadata": {},
   "outputs": [
    {
     "data": {
      "text/html": [
       "<div>\n",
       "<style scoped>\n",
       "    .dataframe tbody tr th:only-of-type {\n",
       "        vertical-align: middle;\n",
       "    }\n",
       "\n",
       "    .dataframe tbody tr th {\n",
       "        vertical-align: top;\n",
       "    }\n",
       "\n",
       "    .dataframe thead th {\n",
       "        text-align: right;\n",
       "    }\n",
       "</style>\n",
       "<table border=\"1\" class=\"dataframe\">\n",
       "  <thead>\n",
       "    <tr style=\"text-align: right;\">\n",
       "      <th></th>\n",
       "      <th>event_name</th>\n",
       "      <th>event_count</th>\n",
       "      <th>user_count</th>\n",
       "      <th>shift</th>\n",
       "      <th>step_conv</th>\n",
       "      <th>conversion</th>\n",
       "    </tr>\n",
       "  </thead>\n",
       "  <tbody>\n",
       "    <tr>\n",
       "      <th>0</th>\n",
       "      <td>MainScreenAppear</td>\n",
       "      <td>40562</td>\n",
       "      <td>2493</td>\n",
       "      <td>NaN</td>\n",
       "      <td>NaN</td>\n",
       "      <td>100.00</td>\n",
       "    </tr>\n",
       "    <tr>\n",
       "      <th>1</th>\n",
       "      <td>OffersScreenAppear</td>\n",
       "      <td>16387</td>\n",
       "      <td>1531</td>\n",
       "      <td>2493.0</td>\n",
       "      <td>61.41</td>\n",
       "      <td>61.41</td>\n",
       "    </tr>\n",
       "    <tr>\n",
       "      <th>2</th>\n",
       "      <td>CartScreenAppear</td>\n",
       "      <td>15179</td>\n",
       "      <td>1230</td>\n",
       "      <td>1531.0</td>\n",
       "      <td>80.34</td>\n",
       "      <td>49.34</td>\n",
       "    </tr>\n",
       "    <tr>\n",
       "      <th>3</th>\n",
       "      <td>PaymentScreenSuccessful</td>\n",
       "      <td>12085</td>\n",
       "      <td>1181</td>\n",
       "      <td>1230.0</td>\n",
       "      <td>96.02</td>\n",
       "      <td>47.37</td>\n",
       "    </tr>\n",
       "  </tbody>\n",
       "</table>\n",
       "</div>"
      ],
      "text/plain": [
       "                event_name  event_count  user_count   shift  step_conv  \\\n",
       "0         MainScreenAppear        40562        2493     NaN        NaN   \n",
       "1       OffersScreenAppear        16387        1531  2493.0      61.41   \n",
       "2         CartScreenAppear        15179        1230  1531.0      80.34   \n",
       "3  PaymentScreenSuccessful        12085        1181  1230.0      96.02   \n",
       "\n",
       "   conversion  \n",
       "0      100.00  \n",
       "1       61.41  \n",
       "2       49.34  \n",
       "3       47.37  "
      ]
     },
     "execution_count": 26,
     "metadata": {},
     "output_type": "execute_result"
    }
   ],
   "source": [
    "funnel_B['shift'] = funnel_B['user_count'].shift(1)\n",
    "\n",
    "#добавим колонку с долей переходов с шага на шаг\n",
    "funnel_B['step_conv'] = funnel_B['user_count']/funnel_B['shift']*100 \n",
    "funnel_B['step_conv'] = funnel_B['step_conv'].round(2)\n",
    "\n",
    "#добавим колонку с общей конверсией\n",
    "funnel_B['conversion'] = funnel_B['user_count']/2493*100\n",
    "funnel_B['conversion'] = funnel_B['conversion'].round(2)\n",
    "funnel_B"
   ]
  },
  {
   "cell_type": "code",
   "execution_count": 1,
   "id": "71f42c0f",
   "metadata": {},
   "outputs": [
    {
     "ename": "NameError",
     "evalue": "name 'go' is not defined",
     "output_type": "error",
     "traceback": [
      "\u001b[0;31m---------------------------------------------------------------------------\u001b[0m",
      "\u001b[0;31mNameError\u001b[0m                                 Traceback (most recent call last)",
      "\u001b[0;32m/tmp/ipykernel_31/4197779817.py\u001b[0m in \u001b[0;36m<module>\u001b[0;34m\u001b[0m\n\u001b[0;32m----> 1\u001b[0;31m \u001b[0mfig\u001b[0m \u001b[0;34m=\u001b[0m \u001b[0mgo\u001b[0m\u001b[0;34m.\u001b[0m\u001b[0mFigure\u001b[0m\u001b[0;34m(\u001b[0m\u001b[0;34m)\u001b[0m\u001b[0;34m\u001b[0m\u001b[0;34m\u001b[0m\u001b[0m\n\u001b[0m\u001b[1;32m      2\u001b[0m \u001b[0;34m\u001b[0m\u001b[0m\n\u001b[1;32m      3\u001b[0m fig.add_trace(go.Funnel(\n\u001b[1;32m      4\u001b[0m     \u001b[0mname\u001b[0m \u001b[0;34m=\u001b[0m \u001b[0;34m'A1'\u001b[0m\u001b[0;34m,\u001b[0m\u001b[0;34m\u001b[0m\u001b[0;34m\u001b[0m\u001b[0m\n\u001b[1;32m      5\u001b[0m     \u001b[0my\u001b[0m \u001b[0;34m=\u001b[0m \u001b[0mfunnel_A1\u001b[0m\u001b[0;34m[\u001b[0m\u001b[0;34m'event_name'\u001b[0m\u001b[0;34m]\u001b[0m\u001b[0;34m,\u001b[0m\u001b[0;34m\u001b[0m\u001b[0;34m\u001b[0m\u001b[0m\n",
      "\u001b[0;31mNameError\u001b[0m: name 'go' is not defined"
     ]
    }
   ],
   "source": [
    "fig = go.Figure()\n",
    "\n",
    "fig.add_trace(go.Funnel(\n",
    "    name = 'A1', \n",
    "    y = funnel_A1['event_name'],\n",
    "    x = funnel_A1['user_count'],\n",
    "    marker = {\"color\": \"pink\"},\n",
    "    textinfo = \"value+percent initial+percent previous\"))\n",
    "\n",
    "fig.add_trace(go.Funnel(\n",
    "    name = 'A2',\n",
    "    orientation = \"h\",\n",
    "    y = funnel_A2['event_name'],\n",
    "    x = funnel_A2['user_count'],\n",
    "    textposition = \"inside\",\n",
    "    marker = {\"color\": \"purple\"},\n",
    "    textinfo = \"value+percent initial+percent previous\"))\n",
    "\n",
    "fig.add_trace(go.Funnel(\n",
    "    name = 'B',\n",
    "    orientation = \"h\",\n",
    "    y = funnel_B['event_name'],\n",
    "    x = funnel_B['user_count'],\n",
    "    textposition = \"inside\",\n",
    "    marker = {\"color\": \"teal\"},\n",
    "    textinfo = \"value+percent initial+percent previous\"))\n",
    "\n",
    "fig.update_layout(title_text='Воронка конверсии событий по группам', title_x=0.7)\n",
    "fig.show()"
   ]
  },
  {
   "cell_type": "markdown",
   "id": "7a91c985",
   "metadata": {},
   "source": [
    "## Вывод по разделу\n",
    "\n",
    "- Почти половина пользователей доходит до оплаты товара. И лидирует здесь группа А1 (первая контрольная группа)\n",
    "- Наибольший процент клиентов теряется уже на втором шаге, когда нужно перейти с главной страницы на страницу предложения(товара) - то есть около 40% клиентов мы теряем!\n",
    "- Самая большая конверсия при переходе на последний шаг - ~95% пользователей, добавивших товар в корзину, оплачивают его."
   ]
  },
  {
   "cell_type": "markdown",
   "id": "d4c34bbe",
   "metadata": {},
   "source": [
    "# Анализ реультатов A/A/B эксперимента"
   ]
  },
  {
   "cell_type": "code",
   "execution_count": 28,
   "id": "b7b56ee1",
   "metadata": {},
   "outputs": [
    {
     "data": {
      "text/html": [
       "<div>\n",
       "<style scoped>\n",
       "    .dataframe tbody tr th:only-of-type {\n",
       "        vertical-align: middle;\n",
       "    }\n",
       "\n",
       "    .dataframe tbody tr th {\n",
       "        vertical-align: top;\n",
       "    }\n",
       "\n",
       "    .dataframe thead th {\n",
       "        text-align: right;\n",
       "    }\n",
       "</style>\n",
       "<table border=\"1\" class=\"dataframe\">\n",
       "  <thead>\n",
       "    <tr style=\"text-align: right;\">\n",
       "      <th></th>\n",
       "      <th>device_id</th>\n",
       "      <th>exp_id</th>\n",
       "    </tr>\n",
       "  </thead>\n",
       "  <tbody>\n",
       "  </tbody>\n",
       "</table>\n",
       "</div>"
      ],
      "text/plain": [
       "Empty DataFrame\n",
       "Columns: [device_id, exp_id]\n",
       "Index: []"
      ]
     },
     "execution_count": 28,
     "metadata": {},
     "output_type": "execute_result"
    }
   ],
   "source": [
    "data_new.groupby('device_id').agg({'exp_id':'nunique'}).query('exp_id > 1').reset_index()"
   ]
  },
  {
   "cell_type": "markdown",
   "id": "6d838d33",
   "metadata": {},
   "source": [
    "Пользователи в группах не пересекаются."
   ]
  },
  {
   "cell_type": "code",
   "execution_count": 29,
   "id": "da6cb937",
   "metadata": {},
   "outputs": [
    {
     "data": {
      "text/html": [
       "<div>\n",
       "<style scoped>\n",
       "    .dataframe tbody tr th:only-of-type {\n",
       "        vertical-align: middle;\n",
       "    }\n",
       "\n",
       "    .dataframe tbody tr th {\n",
       "        vertical-align: top;\n",
       "    }\n",
       "\n",
       "    .dataframe thead th {\n",
       "        text-align: right;\n",
       "    }\n",
       "</style>\n",
       "<table border=\"1\" class=\"dataframe\">\n",
       "  <thead>\n",
       "    <tr style=\"text-align: right;\">\n",
       "      <th></th>\n",
       "      <th>exp_id</th>\n",
       "      <th>number_of_users</th>\n",
       "    </tr>\n",
       "  </thead>\n",
       "  <tbody>\n",
       "    <tr>\n",
       "      <th>0</th>\n",
       "      <td>246</td>\n",
       "      <td>2484</td>\n",
       "    </tr>\n",
       "    <tr>\n",
       "      <th>1</th>\n",
       "      <td>247</td>\n",
       "      <td>2513</td>\n",
       "    </tr>\n",
       "    <tr>\n",
       "      <th>2</th>\n",
       "      <td>248</td>\n",
       "      <td>2537</td>\n",
       "    </tr>\n",
       "  </tbody>\n",
       "</table>\n",
       "</div>"
      ],
      "text/plain": [
       "   exp_id  number_of_users\n",
       "0     246             2484\n",
       "1     247             2513\n",
       "2     248             2537"
      ]
     },
     "execution_count": 29,
     "metadata": {},
     "output_type": "execute_result"
    }
   ],
   "source": [
    "#cчитаем пользователей в каждой группе\n",
    "group_size = (\n",
    "    data_new\n",
    "    .groupby('exp_id')\n",
    "    .agg({'device_id': 'nunique'})\n",
    "    .reset_index()\n",
    "    .rename(columns={'device_id':'number_of_users'})\n",
    ")\n",
    "group_size"
   ]
  },
  {
   "cell_type": "markdown",
   "id": "898affa6",
   "metadata": {},
   "source": [
    "Посчитаем статистическую значимость различий между выборками 246 (А1) и 247(А2). Сформулируем гипотезы.\n",
    "\n",
    "- Нулевая: различий в выборках между группами А1 и А2 нет.\n",
    "- Альтернативная: различия в выборках между группами есть."
   ]
  },
  {
   "cell_type": "code",
   "execution_count": 30,
   "id": "8c4c22d3",
   "metadata": {},
   "outputs": [
    {
     "data": {
      "text/html": [
       "<div>\n",
       "<style scoped>\n",
       "    .dataframe tbody tr th:only-of-type {\n",
       "        vertical-align: middle;\n",
       "    }\n",
       "\n",
       "    .dataframe tbody tr th {\n",
       "        vertical-align: top;\n",
       "    }\n",
       "\n",
       "    .dataframe thead th {\n",
       "        text-align: right;\n",
       "    }\n",
       "</style>\n",
       "<table border=\"1\" class=\"dataframe\">\n",
       "  <thead>\n",
       "    <tr style=\"text-align: right;\">\n",
       "      <th>event_name</th>\n",
       "      <th>exp_id</th>\n",
       "      <th>CartScreenAppear</th>\n",
       "      <th>MainScreenAppear</th>\n",
       "      <th>OffersScreenAppear</th>\n",
       "      <th>PaymentScreenSuccessful</th>\n",
       "      <th>Tutorial</th>\n",
       "      <th>number_of_users</th>\n",
       "    </tr>\n",
       "  </thead>\n",
       "  <tbody>\n",
       "    <tr>\n",
       "      <th>0</th>\n",
       "      <td>246</td>\n",
       "      <td>1266</td>\n",
       "      <td>2450</td>\n",
       "      <td>1542</td>\n",
       "      <td>1200</td>\n",
       "      <td>278</td>\n",
       "      <td>2484</td>\n",
       "    </tr>\n",
       "    <tr>\n",
       "      <th>1</th>\n",
       "      <td>247</td>\n",
       "      <td>1238</td>\n",
       "      <td>2476</td>\n",
       "      <td>1520</td>\n",
       "      <td>1158</td>\n",
       "      <td>283</td>\n",
       "      <td>2513</td>\n",
       "    </tr>\n",
       "    <tr>\n",
       "      <th>2</th>\n",
       "      <td>248</td>\n",
       "      <td>1230</td>\n",
       "      <td>2493</td>\n",
       "      <td>1531</td>\n",
       "      <td>1181</td>\n",
       "      <td>279</td>\n",
       "      <td>2537</td>\n",
       "    </tr>\n",
       "  </tbody>\n",
       "</table>\n",
       "</div>"
      ],
      "text/plain": [
       "event_name  exp_id  CartScreenAppear  MainScreenAppear  OffersScreenAppear  \\\n",
       "0              246              1266              2450                1542   \n",
       "1              247              1238              2476                1520   \n",
       "2              248              1230              2493                1531   \n",
       "\n",
       "event_name  PaymentScreenSuccessful  Tutorial  number_of_users  \n",
       "0                              1200       278             2484  \n",
       "1                              1158       283             2513  \n",
       "2                              1181       279             2537  "
      ]
     },
     "execution_count": 30,
     "metadata": {},
     "output_type": "execute_result"
    }
   ],
   "source": [
    "users_by_events = (\n",
    "    data_new\n",
    "    .pivot_table(index = 'exp_id',\n",
    "                 columns = 'event_name',\n",
    "                 values = 'device_id',\n",
    "                 aggfunc = 'nunique')\n",
    "    .reset_index()\n",
    ")\n",
    "\n",
    "# добавляем столбец с количеством пользователей в группах\n",
    "users_by_events['number_of_users'] = group_size['number_of_users']\n",
    "\n",
    "users_by_events"
   ]
  },
  {
   "cell_type": "markdown",
   "id": "a81d6920",
   "metadata": {},
   "source": [
    "Cравним доли клиентов групп 246 и 247, оплативших заказ. Из 2483 пользователей группы 246, заказ оплатили 1200 человек; а из 2512 пользователей группы 247 заказ оплатили 1158. Попробуем сделать вывод о разнице в конверсии для этих групп. Для начала сформулируем гипотезы:\n",
    "\n",
    "- H₀ - различий в долях клиентов, оплативших заказ между группами нет;\n",
    "- H₁ - различия в долях клиентов, оплативших заказ между группами есть."
   ]
  },
  {
   "cell_type": "code",
   "execution_count": 31,
   "id": "18d28e6e",
   "metadata": {},
   "outputs": [],
   "source": [
    "# формирование вспомогательной функции для вывода результатов теста\n",
    "def test_result(value_1, value_2):\n",
    "    if value_1 < value_2:\n",
    "        print('Отвергаем нулевую гипотезу: между долями есть значимая разница')\n",
    "    else:\n",
    "        print('Не получилось отвергнуть нулевую гипотезу, нет оснований считать доли разными')\n",
    "\n",
    "# формирование функции\n",
    "def hypo_test (trials_1, trials_2, successes_1, successes_2, alpha):\n",
    "    \n",
    "    # пропорция успехов в первой группе\n",
    "    p1 = successes_1/trials_1\n",
    "    \n",
    "    # пропорция успехов во второй группе\n",
    "    p2 = successes_2/trials_2\n",
    "\n",
    "    # пропорция успехов в комбинированном датасете\n",
    "    p_combined = (successes_1 + \n",
    "                  successes_2) / (trials_1 + \n",
    "                                 trials_2)\n",
    "\n",
    "    # разница пропорций в датасетах\n",
    "    difference = p1 - p2 \n",
    "\n",
    "    # считаем статистику в ст.отклонениях стандартного нормального распределения\n",
    "    z_value = difference / mth.sqrt(p_combined * \n",
    "                                    (1 - p_combined) * \n",
    "                                    (1 / trials_1 + 1 / trials_2))\n",
    "\n",
    "    # задаем стандартное нормальное распределение (среднее 0, ст.отклонение 1)\n",
    "    distr = stats.norm(0, 1)\n",
    "\n",
    "    p_value = (1 - distr.cdf(abs(z_value))) * 2\n",
    "    \n",
    "    pr_1 = print('p-значение: ', p_value)\n",
    "    \n",
    "    pr_2 = test_result(p_value, alpha)\n",
    "    \n",
    "    return pr_1, pr_2"
   ]
  },
  {
   "cell_type": "markdown",
   "id": "158ab865",
   "metadata": {},
   "source": [
    "Проведем проверку гипотез, запустив функцию для групп 246 и 247 и назначив уровень стат. значимости равный 0.05."
   ]
  },
  {
   "cell_type": "code",
   "execution_count": 32,
   "id": "66f292e8",
   "metadata": {},
   "outputs": [
    {
     "name": "stdout",
     "output_type": "stream",
     "text": [
      "**Проверка гипотезы о различиях в долях клиентов по событию Tutorial в группах 246 и 247**\n",
      "p-значение:  0.11456679313141849\n",
      "Не получилось отвергнуть нулевую гипотезу, нет оснований считать доли разными\n"
     ]
    },
    {
     "data": {
      "text/plain": [
       "(None, None)"
      ]
     },
     "execution_count": 32,
     "metadata": {},
     "output_type": "execute_result"
    }
   ],
   "source": [
    "print('**Проверка гипотезы о различиях в долях клиентов по событию', \n",
    "      users_by_events.columns[5], 'в группах 246 и 247**')\n",
    "hypo_test (users_by_events.iloc[0,6],\n",
    "           users_by_events.iloc[1,6],\n",
    "           users_by_events.iloc[0,4],\n",
    "           users_by_events.iloc[1,4], 0.05)"
   ]
  },
  {
   "cell_type": "markdown",
   "id": "ab2ea426",
   "metadata": {},
   "source": [
    "Cтатистически значимых различий между двумя А-группами не обнаружено.\n",
    "\n",
    "Выберем самое популярное событие - MainScreenAppear - появление главного экрана. Количество пользователей в группах, совершивших данное событие мы определили, осталось посчитать доли от общего количества пользователей по группам."
   ]
  },
  {
   "cell_type": "code",
   "execution_count": 33,
   "id": "61f327b8",
   "metadata": {},
   "outputs": [
    {
     "data": {
      "text/html": [
       "<div>\n",
       "<style scoped>\n",
       "    .dataframe tbody tr th:only-of-type {\n",
       "        vertical-align: middle;\n",
       "    }\n",
       "\n",
       "    .dataframe tbody tr th {\n",
       "        vertical-align: top;\n",
       "    }\n",
       "\n",
       "    .dataframe thead th {\n",
       "        text-align: right;\n",
       "    }\n",
       "</style>\n",
       "<table border=\"1\" class=\"dataframe\">\n",
       "  <thead>\n",
       "    <tr style=\"text-align: right;\">\n",
       "      <th>event_name</th>\n",
       "      <th>exp_id</th>\n",
       "      <th>MainScreenAppear</th>\n",
       "      <th>number_of_users</th>\n",
       "      <th>proportion</th>\n",
       "    </tr>\n",
       "  </thead>\n",
       "  <tbody>\n",
       "    <tr>\n",
       "      <th>0</th>\n",
       "      <td>246</td>\n",
       "      <td>2450</td>\n",
       "      <td>2484</td>\n",
       "      <td>0.986</td>\n",
       "    </tr>\n",
       "    <tr>\n",
       "      <th>1</th>\n",
       "      <td>247</td>\n",
       "      <td>2476</td>\n",
       "      <td>2513</td>\n",
       "      <td>0.985</td>\n",
       "    </tr>\n",
       "    <tr>\n",
       "      <th>2</th>\n",
       "      <td>248</td>\n",
       "      <td>2493</td>\n",
       "      <td>2537</td>\n",
       "      <td>0.983</td>\n",
       "    </tr>\n",
       "  </tbody>\n",
       "</table>\n",
       "</div>"
      ],
      "text/plain": [
       "event_name  exp_id  MainScreenAppear  number_of_users  proportion\n",
       "0              246              2450             2484       0.986\n",
       "1              247              2476             2513       0.985\n",
       "2              248              2493             2537       0.983"
      ]
     },
     "execution_count": 33,
     "metadata": {},
     "output_type": "execute_result"
    }
   ],
   "source": [
    "# сформируем вспомогательную таблицу\n",
    "top = users_by_events[['exp_id', 'MainScreenAppear', 'number_of_users']].copy()\n",
    "top['proportion'] = round(top['MainScreenAppear'] / top['number_of_users'], 3)\n",
    "top"
   ]
  },
  {
   "cell_type": "markdown",
   "id": "dcf3d0e4",
   "metadata": {},
   "source": [
    "Почти каждый пользователь приложения попадал на главный экран.\n",
    "\n",
    "Проверим, будет ли отличие между группами 246 и 247 статистически достоверным."
   ]
  },
  {
   "cell_type": "code",
   "execution_count": 34,
   "id": "306ad77d",
   "metadata": {},
   "outputs": [
    {
     "name": "stdout",
     "output_type": "stream",
     "text": [
      "**Проверка гипотезы о различиях в долях клиентов по событию OffersScreenAppear в группах 246 и 247**\n",
      "p-значение:  0.7570597232046099\n",
      "Не получилось отвергнуть нулевую гипотезу, нет оснований считать доли разными\n"
     ]
    },
    {
     "data": {
      "text/plain": [
       "(None, None)"
      ]
     },
     "execution_count": 34,
     "metadata": {},
     "output_type": "execute_result"
    }
   ],
   "source": [
    "print('**Проверка гипотезы о различиях в долях клиентов по событию', \n",
    "      users_by_events.columns[3], 'в группах 246 и 247**')\n",
    "hypo_test (users_by_events.iloc[0,6], \n",
    "           users_by_events.iloc[1,6], \n",
    "           users_by_events.iloc[0,2], \n",
    "           users_by_events.iloc[1,2], 0.05)"
   ]
  },
  {
   "cell_type": "markdown",
   "id": "94a62d0f",
   "metadata": {},
   "source": [
    "Cтатистически значимых различий между группами 246 и 247 по результатам проверки различий в долях клиентов, взаимодействующих с главным экраном, не обнаружено.\n",
    "\n",
    "Проведем проверку по остальным событиям: OffersScreenAppear и CartScreenAppear."
   ]
  },
  {
   "cell_type": "code",
   "execution_count": 35,
   "id": "655ec4e7",
   "metadata": {},
   "outputs": [
    {
     "name": "stdout",
     "output_type": "stream",
     "text": [
      "**Проверка гипотезы о различиях в долях клиентов по событию OffersScreenAppear в группах 246 и 247**\n",
      "p-значение:  0.2480954578522181\n",
      "Не получилось отвергнуть нулевую гипотезу, нет оснований считать доли разными\n",
      "\n",
      "\n",
      "**Проверка гипотезы о различиях в долях клиентов по событию CartScreenAppear в группах 246 и 247**\n",
      "p-значение:  0.22883372237997213\n",
      "Не получилось отвергнуть нулевую гипотезу, нет оснований считать доли разными\n",
      "\n",
      "\n",
      "**Проверка гипотезы о различиях в долях клиентов по событию Tutorial в группах 246 и 247**\n",
      "p-значение:  0.9376996189257114\n",
      "Не получилось отвергнуть нулевую гипотезу, нет оснований считать доли разными\n",
      "\n",
      "\n"
     ]
    }
   ],
   "source": [
    "column_list = [3, 1, 5]\n",
    "for column_number in column_list:\n",
    "    print('**Проверка гипотезы о различиях в долях клиентов по событию', \n",
    "      users_by_events.columns[column_number], 'в группах 246 и 247**')\n",
    "    hypo_test (users_by_events.iloc[0,6],\n",
    "               users_by_events.iloc[1,6],\n",
    "               users_by_events.iloc[0,column_number],\n",
    "               users_by_events.iloc[1,column_number], 0.05)\n",
    "    print('\\n')"
   ]
  },
  {
   "cell_type": "markdown",
   "id": "c0367691",
   "metadata": {},
   "source": [
    "По результатам проверок можно сделать вывод, что статистически значимых различий между группами 246 и 247 нет и группы разбиты корректно.\n",
    "\n",
    "Сравним результаты группы 248 с каждой из групп 246 и 247 в отдельности по каждому событию."
   ]
  },
  {
   "cell_type": "code",
   "execution_count": 36,
   "id": "76cfb9ab",
   "metadata": {},
   "outputs": [
    {
     "name": "stdout",
     "output_type": "stream",
     "text": [
      "**Проверка гипотезы о различиях в долях клиентов по событию MainScreenAppear в группах 246 и 248**\n",
      "p-значение:  0.2949721933554552\n",
      "Не получилось отвергнуть нулевую гипотезу, нет оснований считать доли разными\n",
      "\n",
      "\n",
      "**Проверка гипотезы о различиях в долях клиентов по событию MainScreenAppear в группах 247 и 248**\n",
      "p-значение:  0.4587053616621515\n",
      "Не получилось отвергнуть нулевую гипотезу, нет оснований считать доли разными\n",
      "\n",
      "\n",
      "\n",
      "\n",
      "**Проверка гипотезы о различиях в долях клиентов по событию OffersScreenAppear в группах 246 и 248**\n",
      "p-значение:  0.20836205402738917\n",
      "Не получилось отвергнуть нулевую гипотезу, нет оснований считать доли разными\n",
      "\n",
      "\n",
      "**Проверка гипотезы о различиях в долях клиентов по событию OffersScreenAppear в группах 247 и 248**\n",
      "p-значение:  0.9197817830592261\n",
      "Не получилось отвергнуть нулевую гипотезу, нет оснований считать доли разными\n",
      "\n",
      "\n",
      "\n",
      "\n",
      "**Проверка гипотезы о различиях в долях клиентов по событию CartScreenAppear в группах 246 и 248**\n",
      "p-значение:  0.07842923237520116\n",
      "Не получилось отвергнуть нулевую гипотезу, нет оснований считать доли разными\n",
      "\n",
      "\n",
      "**Проверка гипотезы о различиях в долях клиентов по событию CartScreenAppear в группах 247 и 248**\n",
      "p-значение:  0.5786197879539783\n",
      "Не получилось отвергнуть нулевую гипотезу, нет оснований считать доли разными\n",
      "\n",
      "\n",
      "\n",
      "\n",
      "**Проверка гипотезы о различиях в долях клиентов по событию PaymentScreenSuccessful в группах 246 и 248**\n",
      "p-значение:  0.2122553275697796\n",
      "Не получилось отвергнуть нулевую гипотезу, нет оснований считать доли разными\n",
      "\n",
      "\n",
      "**Проверка гипотезы о различиях в долях клиентов по событию PaymentScreenSuccessful в группах 247 и 248**\n",
      "p-значение:  0.7373415053803964\n",
      "Не получилось отвергнуть нулевую гипотезу, нет оснований считать доли разными\n",
      "\n",
      "\n",
      "\n",
      "\n",
      "**Проверка гипотезы о различиях в долях клиентов по событию Tutorial в группах 246 и 248**\n",
      "p-значение:  0.8264294010087645\n",
      "Не получилось отвергнуть нулевую гипотезу, нет оснований считать доли разными\n",
      "\n",
      "\n",
      "**Проверка гипотезы о различиях в долях клиентов по событию Tutorial в группах 247 и 248**\n",
      "p-значение:  0.765323922474501\n",
      "Не получилось отвергнуть нулевую гипотезу, нет оснований считать доли разными\n",
      "\n",
      "\n",
      "\n",
      "\n"
     ]
    }
   ],
   "source": [
    "column_list = [2, 3, 1, 4, 5]\n",
    "for column_number in column_list:\n",
    "    print('**Проверка гипотезы о различиях в долях клиентов по событию', \n",
    "      users_by_events.columns[column_number], 'в группах 246 и 248**')\n",
    "    hypo_test (users_by_events.iloc[0,6],\n",
    "               users_by_events.iloc[2,6],\n",
    "               users_by_events.iloc[0,column_number],\n",
    "               users_by_events.iloc[2,column_number], 0.05)\n",
    "    print('\\n')\n",
    "    print('**Проверка гипотезы о различиях в долях клиентов по событию', \n",
    "      users_by_events.columns[column_number], 'в группах 247 и 248**')\n",
    "    hypo_test (users_by_events.iloc[1,6],\n",
    "               users_by_events.iloc[2,6],\n",
    "               users_by_events.iloc[1,column_number],\n",
    "               users_by_events.iloc[2,column_number], 0.05)\n",
    "    print('\\n')\n",
    "    print('\\n')\n"
   ]
  },
  {
   "cell_type": "markdown",
   "id": "bf0031e2",
   "metadata": {},
   "source": [
    "По результатам проверок видно, что статистически значимых различий между группами 246, 247 и 248 нет. Предварительно можно сделать вывод, что замена шрифта не повлияла на пользователей\n",
    "\n",
    "Добавим в таблицу users_by_events строку с данными по объединённой контрольной группе 246_247 для сравнения результатов с группой 248."
   ]
  },
  {
   "cell_type": "code",
   "execution_count": 37,
   "id": "c192ff00",
   "metadata": {},
   "outputs": [
    {
     "data": {
      "text/html": [
       "<div>\n",
       "<style scoped>\n",
       "    .dataframe tbody tr th:only-of-type {\n",
       "        vertical-align: middle;\n",
       "    }\n",
       "\n",
       "    .dataframe tbody tr th {\n",
       "        vertical-align: top;\n",
       "    }\n",
       "\n",
       "    .dataframe thead th {\n",
       "        text-align: right;\n",
       "    }\n",
       "</style>\n",
       "<table border=\"1\" class=\"dataframe\">\n",
       "  <thead>\n",
       "    <tr style=\"text-align: right;\">\n",
       "      <th>event_name</th>\n",
       "      <th>exp_id</th>\n",
       "      <th>CartScreenAppear</th>\n",
       "      <th>MainScreenAppear</th>\n",
       "      <th>OffersScreenAppear</th>\n",
       "      <th>PaymentScreenSuccessful</th>\n",
       "      <th>Tutorial</th>\n",
       "      <th>number_of_users</th>\n",
       "    </tr>\n",
       "  </thead>\n",
       "  <tbody>\n",
       "    <tr>\n",
       "      <th>0</th>\n",
       "      <td>246</td>\n",
       "      <td>1266</td>\n",
       "      <td>2450</td>\n",
       "      <td>1542</td>\n",
       "      <td>1200</td>\n",
       "      <td>278</td>\n",
       "      <td>2484</td>\n",
       "    </tr>\n",
       "    <tr>\n",
       "      <th>1</th>\n",
       "      <td>247</td>\n",
       "      <td>1238</td>\n",
       "      <td>2476</td>\n",
       "      <td>1520</td>\n",
       "      <td>1158</td>\n",
       "      <td>283</td>\n",
       "      <td>2513</td>\n",
       "    </tr>\n",
       "    <tr>\n",
       "      <th>2</th>\n",
       "      <td>248</td>\n",
       "      <td>1230</td>\n",
       "      <td>2493</td>\n",
       "      <td>1531</td>\n",
       "      <td>1181</td>\n",
       "      <td>279</td>\n",
       "      <td>2537</td>\n",
       "    </tr>\n",
       "    <tr>\n",
       "      <th>3</th>\n",
       "      <td>246&amp;247</td>\n",
       "      <td>2504</td>\n",
       "      <td>4926</td>\n",
       "      <td>3062</td>\n",
       "      <td>2358</td>\n",
       "      <td>561</td>\n",
       "      <td>4997</td>\n",
       "    </tr>\n",
       "  </tbody>\n",
       "</table>\n",
       "</div>"
      ],
      "text/plain": [
       "event_name   exp_id  CartScreenAppear  MainScreenAppear  OffersScreenAppear  \\\n",
       "0               246              1266              2450                1542   \n",
       "1               247              1238              2476                1520   \n",
       "2               248              1230              2493                1531   \n",
       "3           246&247              2504              4926                3062   \n",
       "\n",
       "event_name  PaymentScreenSuccessful  Tutorial  number_of_users  \n",
       "0                              1200       278             2484  \n",
       "1                              1158       283             2513  \n",
       "2                              1181       279             2537  \n",
       "3                              2358       561             4997  "
      ]
     },
     "execution_count": 37,
     "metadata": {},
     "output_type": "execute_result"
    }
   ],
   "source": [
    "# дополнение таблицы информацией по объединенной контрольной группе\n",
    "row_246_247 = users_by_events.loc[0] + users_by_events.loc[1]\n",
    "users_by_events_total = users_by_events.copy()\n",
    "users_by_events_total = users_by_events_total.append([row_246_247]).reset_index(drop=True)\n",
    "users_by_events_total.iloc[3,0] = '246&247'\n",
    "users_by_events_total"
   ]
  },
  {
   "cell_type": "markdown",
   "id": "7321d2b5",
   "metadata": {},
   "source": [
    "Сравним результаты группы 248 с объединённой контрольной группой 246_247 в отдельности по каждому событию."
   ]
  },
  {
   "cell_type": "code",
   "execution_count": 38,
   "id": "6fe7e221",
   "metadata": {},
   "outputs": [
    {
     "name": "stdout",
     "output_type": "stream",
     "text": [
      "**Проверка гипотезы о различиях в долях клиентов по событию MainScreenAppear в группах 246&247 и 248**\n",
      "p-значение:  0.29424526837179577\n",
      "Не получилось отвергнуть нулевую гипотезу, нет оснований считать доли разными\n",
      "\n",
      "\n",
      "**Проверка гипотезы о различиях в долях клиентов по событию OffersScreenAppear в группах 246&247 и 248**\n",
      "p-значение:  0.43425549655188256\n",
      "Не получилось отвергнуть нулевую гипотезу, нет оснований считать доли разными\n",
      "\n",
      "\n",
      "**Проверка гипотезы о различиях в долях клиентов по событию CartScreenAppear в группах 246&247 и 248**\n",
      "p-значение:  0.18175875284404386\n",
      "Не получилось отвергнуть нулевую гипотезу, нет оснований считать доли разными\n",
      "\n",
      "\n",
      "**Проверка гипотезы о различиях в долях клиентов по событию PaymentScreenSuccessful в группах 246&247 и 248**\n",
      "p-значение:  0.6004294282308704\n",
      "Не получилось отвергнуть нулевую гипотезу, нет оснований считать доли разными\n",
      "\n",
      "\n",
      "**Проверка гипотезы о различиях в долях клиентов по событию Tutorial в группах 246&247 и 248**\n",
      "p-значение:  0.764862472531507\n",
      "Не получилось отвергнуть нулевую гипотезу, нет оснований считать доли разными\n",
      "\n",
      "\n"
     ]
    }
   ],
   "source": [
    "column_list = [2, 3, 1, 4, 5]\n",
    "for column_number in column_list:\n",
    "    print('**Проверка гипотезы о различиях в долях клиентов по событию', \n",
    "      users_by_events_total.columns[column_number], 'в группах 246&247 и 248**')\n",
    "    hypo_test (users_by_events_total.iloc[3,6],\n",
    "               users_by_events_total.iloc[2,6],\n",
    "               users_by_events_total.iloc[3,column_number],\n",
    "               users_by_events_total.iloc[2,column_number], 0.05)\n",
    "    print('\\n')"
   ]
  },
  {
   "cell_type": "markdown",
   "id": "2da00d19",
   "metadata": {},
   "source": [
    "По результатам проверок можно сделать общий вывод, что статистически значимых различий между группами 246_247 и 248 также нет. Подтвердим вывод, что замена шрифта не повлияла на пользователей.\n",
    "\n",
    "При проверке статистических гипотез выше мы выбрали уровень значимости равный 0.05. Посчитаем, сколько проверок статистических гипотез мы сделали. Мы провели множественный тест, т.е. брали несколько выборок из одного и того же набора данных. Его особенность в том, что с каждой новой проверкой гипотезы растёт вероятность ошибки первого рода. При уровне значимости 0.1 каждый десятый раз можно получать ложный результат."
   ]
  },
  {
   "cell_type": "code",
   "execution_count": 39,
   "id": "70c4c7ee",
   "metadata": {},
   "outputs": [
    {
     "name": "stdout",
     "output_type": "stream",
     "text": [
      "Было сделано проверок статистических гипотез: 20\n"
     ]
    }
   ],
   "source": [
    "#сколько проверок статистических гипотез мы сделали\n",
    "count_stat_hypo = len(users_by_events_total['exp_id'].unique()) * len(data['event_name'].unique())\n",
    "print('Было сделано проверок статистических гипотез:', count_stat_hypo)"
   ]
  },
  {
   "cell_type": "markdown",
   "id": "f6377863",
   "metadata": {},
   "source": [
    "Определим, какой уровень значимости стоит применить. Выберем метод Шидака, т.к. он наиболее точен. Рассчитаем p-value."
   ]
  },
  {
   "cell_type": "code",
   "execution_count": 40,
   "id": "423aaa2e",
   "metadata": {},
   "outputs": [
    {
     "name": "stdout",
     "output_type": "stream",
     "text": [
      "Уточненый p-value: 0.0025613787765302876\n"
     ]
    }
   ],
   "source": [
    "p_value = 1 - (1 - 0.05)**(1 / count_stat_hypo)\n",
    "print('Уточненый p-value:', p_value)"
   ]
  },
  {
   "cell_type": "markdown",
   "id": "183a10f4",
   "metadata": {},
   "source": [
    "Результаты не поменяются, уточненный p-value получился еще меньше. Внесённые нами изменения никак не повлияли на метрики и на поведения пользователей. Поэтому смысла в их применении ко всему ресурсу нет - они не принесут пользы бизнесу."
   ]
  },
  {
   "cell_type": "markdown",
   "id": "9d531020",
   "metadata": {},
   "source": [
    "# Общий вывод\n",
    "\n",
    "При проверке результатов А/А/В-теста было проведено 20 проверок статистических гипотез. Опираясь на полученные результаты можно сделать вывод:\n",
    "- статистически значимых различий между группами 246, 247 и 248 нет;\n",
    "- нет различий между группами 246_247 и 248.\n",
    "Был применен уровень статистической значимости, равный 0.05, менять который в нашем случае нет смысла, так как уточненное значение оказалось еще меньше (применён метод Шидака).\n",
    "\n",
    "Опираясь на результаты проверки можно утверждать, что гипотеза о том, что изменение шрифта на главной странице повлияет на метрики конверсии, не подтвердилась. В связи с этим, возможно, стоит попробовать использовать другой шрифт, или отказаться от идеи менять шрифт в пользу других изменений. Например, вида карточки товара на главной странице приложения, поскольку наибольшее количество клиентов магазина попадают именно на эту страницу. **А судя по воронке конверсии событий, около 40% клиентов теряются на шаге перехода с главной страницы на страницу предложения с товаром.** Скорее всего, именно в том, что вид товара на главной странице не привлекает клиента, есть проблема."
   ]
  }
 ],
 "metadata": {
  "ExecuteTimeLog": [
   {
    "duration": 1194,
    "start_time": "2023-04-27T10:27:21.269Z"
   },
   {
    "duration": 394,
    "start_time": "2023-04-27T10:27:22.467Z"
   },
   {
    "duration": 13,
    "start_time": "2023-04-27T10:27:22.863Z"
   },
   {
    "duration": 25,
    "start_time": "2023-04-27T10:27:22.878Z"
   },
   {
    "duration": 466,
    "start_time": "2023-04-27T10:27:22.905Z"
   },
   {
    "duration": 0,
    "start_time": "2023-04-27T10:27:23.374Z"
   },
   {
    "duration": 0,
    "start_time": "2023-04-27T10:27:23.375Z"
   },
   {
    "duration": 0,
    "start_time": "2023-04-27T10:27:23.377Z"
   },
   {
    "duration": 0,
    "start_time": "2023-04-27T10:27:23.379Z"
   },
   {
    "duration": 0,
    "start_time": "2023-04-27T10:27:23.380Z"
   },
   {
    "duration": 0,
    "start_time": "2023-04-27T10:27:23.381Z"
   },
   {
    "duration": 0,
    "start_time": "2023-04-27T10:27:23.383Z"
   },
   {
    "duration": 0,
    "start_time": "2023-04-27T10:27:23.384Z"
   },
   {
    "duration": 0,
    "start_time": "2023-04-27T10:27:23.385Z"
   },
   {
    "duration": 1,
    "start_time": "2023-04-27T10:27:23.386Z"
   },
   {
    "duration": 0,
    "start_time": "2023-04-27T10:27:23.388Z"
   },
   {
    "duration": 0,
    "start_time": "2023-04-27T10:27:23.390Z"
   },
   {
    "duration": 0,
    "start_time": "2023-04-27T10:27:23.392Z"
   },
   {
    "duration": 0,
    "start_time": "2023-04-27T10:27:23.393Z"
   },
   {
    "duration": 0,
    "start_time": "2023-04-27T10:27:23.395Z"
   },
   {
    "duration": 0,
    "start_time": "2023-04-27T10:27:23.395Z"
   },
   {
    "duration": 0,
    "start_time": "2023-04-27T10:27:23.398Z"
   },
   {
    "duration": 0,
    "start_time": "2023-04-27T10:27:23.399Z"
   },
   {
    "duration": 0,
    "start_time": "2023-04-27T10:27:23.400Z"
   },
   {
    "duration": 0,
    "start_time": "2023-04-27T10:27:23.402Z"
   },
   {
    "duration": 0,
    "start_time": "2023-04-27T10:27:23.404Z"
   },
   {
    "duration": 0,
    "start_time": "2023-04-27T10:27:23.405Z"
   },
   {
    "duration": 0,
    "start_time": "2023-04-27T10:27:23.407Z"
   },
   {
    "duration": 0,
    "start_time": "2023-04-27T10:27:23.408Z"
   },
   {
    "duration": 0,
    "start_time": "2023-04-27T10:27:23.409Z"
   },
   {
    "duration": 0,
    "start_time": "2023-04-27T10:27:23.410Z"
   },
   {
    "duration": 0,
    "start_time": "2023-04-27T10:27:23.420Z"
   },
   {
    "duration": 0,
    "start_time": "2023-04-27T10:27:23.422Z"
   },
   {
    "duration": 0,
    "start_time": "2023-04-27T10:27:23.423Z"
   },
   {
    "duration": 0,
    "start_time": "2023-04-27T10:27:23.425Z"
   },
   {
    "duration": 0,
    "start_time": "2023-04-27T10:27:23.426Z"
   },
   {
    "duration": 75,
    "start_time": "2023-04-27T11:39:21.933Z"
   },
   {
    "duration": 1696,
    "start_time": "2023-04-27T11:39:30.020Z"
   },
   {
    "duration": 2619,
    "start_time": "2023-04-27T11:39:31.719Z"
   },
   {
    "duration": 21,
    "start_time": "2023-04-27T11:39:34.340Z"
   },
   {
    "duration": 29,
    "start_time": "2023-04-27T11:39:34.363Z"
   },
   {
    "duration": 3,
    "start_time": "2023-04-27T11:39:34.395Z"
   },
   {
    "duration": 120,
    "start_time": "2023-04-27T11:39:34.401Z"
   },
   {
    "duration": 40,
    "start_time": "2023-04-27T11:39:34.524Z"
   },
   {
    "duration": 26,
    "start_time": "2023-04-27T11:39:34.567Z"
   },
   {
    "duration": 42,
    "start_time": "2023-04-27T11:39:34.597Z"
   },
   {
    "duration": 27,
    "start_time": "2023-04-27T11:39:34.641Z"
   },
   {
    "duration": 38,
    "start_time": "2023-04-27T11:39:34.690Z"
   },
   {
    "duration": 384,
    "start_time": "2023-04-27T11:39:34.730Z"
   },
   {
    "duration": 32,
    "start_time": "2023-04-27T11:39:35.122Z"
   },
   {
    "duration": 95,
    "start_time": "2023-04-27T11:39:35.157Z"
   },
   {
    "duration": 4,
    "start_time": "2023-04-27T11:39:35.254Z"
   },
   {
    "duration": 59,
    "start_time": "2023-04-27T11:39:35.260Z"
   },
   {
    "duration": 28,
    "start_time": "2023-04-27T11:39:35.321Z"
   },
   {
    "duration": 103,
    "start_time": "2023-04-27T11:39:35.352Z"
   },
   {
    "duration": 78,
    "start_time": "2023-04-27T11:39:35.458Z"
   },
   {
    "duration": 115,
    "start_time": "2023-04-27T11:39:35.539Z"
   },
   {
    "duration": 43,
    "start_time": "2023-04-27T11:39:35.657Z"
   },
   {
    "duration": 37,
    "start_time": "2023-04-27T11:39:35.702Z"
   },
   {
    "duration": 64,
    "start_time": "2023-04-27T11:39:35.742Z"
   },
   {
    "duration": 245,
    "start_time": "2023-04-27T11:39:35.808Z"
   },
   {
    "duration": 60,
    "start_time": "2023-04-27T11:39:36.056Z"
   },
   {
    "duration": 193,
    "start_time": "2023-04-27T11:39:36.118Z"
   },
   {
    "duration": 9,
    "start_time": "2023-04-27T11:39:36.313Z"
   },
   {
    "duration": 24,
    "start_time": "2023-04-27T11:39:36.323Z"
   },
   {
    "duration": 32,
    "start_time": "2023-04-27T11:39:36.349Z"
   },
   {
    "duration": 41,
    "start_time": "2023-04-27T11:39:36.384Z"
   },
   {
    "duration": 12,
    "start_time": "2023-04-27T11:39:36.430Z"
   },
   {
    "duration": 45,
    "start_time": "2023-04-27T11:39:36.444Z"
   },
   {
    "duration": 123,
    "start_time": "2023-04-27T11:39:36.491Z"
   },
   {
    "duration": 0,
    "start_time": "2023-04-27T11:39:36.618Z"
   },
   {
    "duration": 0,
    "start_time": "2023-04-27T11:39:36.620Z"
   },
   {
    "duration": 0,
    "start_time": "2023-04-27T11:39:36.621Z"
   },
   {
    "duration": 14,
    "start_time": "2023-04-27T11:40:18.766Z"
   },
   {
    "duration": 7,
    "start_time": "2023-04-27T11:40:27.517Z"
   },
   {
    "duration": 279,
    "start_time": "2023-04-27T11:40:27.526Z"
   },
   {
    "duration": 23,
    "start_time": "2023-04-27T11:40:27.813Z"
   },
   {
    "duration": 28,
    "start_time": "2023-04-27T11:40:27.838Z"
   },
   {
    "duration": 4,
    "start_time": "2023-04-27T11:40:27.869Z"
   },
   {
    "duration": 133,
    "start_time": "2023-04-27T11:40:27.875Z"
   },
   {
    "duration": 36,
    "start_time": "2023-04-27T11:40:28.015Z"
   },
   {
    "duration": 10,
    "start_time": "2023-04-27T11:40:28.052Z"
   },
   {
    "duration": 23,
    "start_time": "2023-04-27T11:40:28.064Z"
   },
   {
    "duration": 38,
    "start_time": "2023-04-27T11:40:28.092Z"
   },
   {
    "duration": 36,
    "start_time": "2023-04-27T11:40:28.131Z"
   },
   {
    "duration": 249,
    "start_time": "2023-04-27T11:40:28.170Z"
   },
   {
    "duration": 32,
    "start_time": "2023-04-27T11:40:28.421Z"
   },
   {
    "duration": 90,
    "start_time": "2023-04-27T11:40:28.456Z"
   },
   {
    "duration": 4,
    "start_time": "2023-04-27T11:40:28.549Z"
   },
   {
    "duration": 70,
    "start_time": "2023-04-27T11:40:28.555Z"
   },
   {
    "duration": 48,
    "start_time": "2023-04-27T11:40:28.627Z"
   },
   {
    "duration": 99,
    "start_time": "2023-04-27T11:40:28.677Z"
   },
   {
    "duration": 57,
    "start_time": "2023-04-27T11:40:28.778Z"
   },
   {
    "duration": 105,
    "start_time": "2023-04-27T11:40:28.838Z"
   },
   {
    "duration": 16,
    "start_time": "2023-04-27T11:40:28.945Z"
   },
   {
    "duration": 45,
    "start_time": "2023-04-27T11:40:28.963Z"
   },
   {
    "duration": 21,
    "start_time": "2023-04-27T11:40:29.009Z"
   },
   {
    "duration": 19,
    "start_time": "2023-04-27T11:40:29.033Z"
   },
   {
    "duration": 68,
    "start_time": "2023-04-27T11:40:29.054Z"
   },
   {
    "duration": 103,
    "start_time": "2023-04-27T11:40:29.124Z"
   },
   {
    "duration": 6,
    "start_time": "2023-04-27T11:40:29.229Z"
   },
   {
    "duration": 11,
    "start_time": "2023-04-27T11:40:29.237Z"
   },
   {
    "duration": 14,
    "start_time": "2023-04-27T11:40:29.250Z"
   },
   {
    "duration": 33,
    "start_time": "2023-04-27T11:40:29.266Z"
   },
   {
    "duration": 20,
    "start_time": "2023-04-27T11:40:29.303Z"
   },
   {
    "duration": 32,
    "start_time": "2023-04-27T11:40:29.326Z"
   },
   {
    "duration": 13,
    "start_time": "2023-04-27T11:40:29.359Z"
   },
   {
    "duration": 44,
    "start_time": "2023-04-27T11:40:29.374Z"
   },
   {
    "duration": 0,
    "start_time": "2023-04-27T11:40:29.420Z"
   },
   {
    "duration": 0,
    "start_time": "2023-04-27T11:40:29.422Z"
   },
   {
    "duration": 36,
    "start_time": "2023-04-27T11:40:43.190Z"
   },
   {
    "duration": 4,
    "start_time": "2023-04-27T11:40:45.418Z"
   },
   {
    "duration": 12,
    "start_time": "2023-04-27T11:40:49.357Z"
   },
   {
    "duration": 13,
    "start_time": "2023-04-27T11:40:55.370Z"
   },
   {
    "duration": 30,
    "start_time": "2023-04-27T11:41:07.576Z"
   },
   {
    "duration": 7,
    "start_time": "2023-04-27T11:41:28.891Z"
   },
   {
    "duration": 234,
    "start_time": "2023-04-27T11:41:28.910Z"
   },
   {
    "duration": 13,
    "start_time": "2023-04-27T11:41:29.146Z"
   },
   {
    "duration": 46,
    "start_time": "2023-04-27T11:41:29.162Z"
   },
   {
    "duration": 7,
    "start_time": "2023-04-27T11:41:29.210Z"
   },
   {
    "duration": 121,
    "start_time": "2023-04-27T11:41:29.220Z"
   },
   {
    "duration": 45,
    "start_time": "2023-04-27T11:41:29.343Z"
   },
   {
    "duration": 16,
    "start_time": "2023-04-27T11:41:29.391Z"
   },
   {
    "duration": 37,
    "start_time": "2023-04-27T11:41:29.410Z"
   },
   {
    "duration": 54,
    "start_time": "2023-04-27T11:41:29.450Z"
   },
   {
    "duration": 32,
    "start_time": "2023-04-27T11:41:29.509Z"
   },
   {
    "duration": 335,
    "start_time": "2023-04-27T11:41:29.544Z"
   },
   {
    "duration": 65,
    "start_time": "2023-04-27T11:41:29.882Z"
   },
   {
    "duration": 75,
    "start_time": "2023-04-27T11:41:29.950Z"
   },
   {
    "duration": 7,
    "start_time": "2023-04-27T11:41:30.029Z"
   },
   {
    "duration": 82,
    "start_time": "2023-04-27T11:41:30.038Z"
   },
   {
    "duration": 39,
    "start_time": "2023-04-27T11:41:30.123Z"
   },
   {
    "duration": 128,
    "start_time": "2023-04-27T11:41:30.165Z"
   },
   {
    "duration": 70,
    "start_time": "2023-04-27T11:41:30.295Z"
   },
   {
    "duration": 134,
    "start_time": "2023-04-27T11:41:30.367Z"
   },
   {
    "duration": 23,
    "start_time": "2023-04-27T11:41:30.512Z"
   },
   {
    "duration": 70,
    "start_time": "2023-04-27T11:41:30.538Z"
   },
   {
    "duration": 48,
    "start_time": "2023-04-27T11:41:30.610Z"
   },
   {
    "duration": 49,
    "start_time": "2023-04-27T11:41:30.661Z"
   },
   {
    "duration": 93,
    "start_time": "2023-04-27T11:41:30.713Z"
   },
   {
    "duration": 109,
    "start_time": "2023-04-27T11:41:30.809Z"
   },
   {
    "duration": 9,
    "start_time": "2023-04-27T11:41:30.921Z"
   },
   {
    "duration": 77,
    "start_time": "2023-04-27T11:41:30.933Z"
   },
   {
    "duration": 48,
    "start_time": "2023-04-27T11:41:31.013Z"
   },
   {
    "duration": 48,
    "start_time": "2023-04-27T11:41:31.063Z"
   },
   {
    "duration": 41,
    "start_time": "2023-04-27T11:41:31.113Z"
   },
   {
    "duration": 52,
    "start_time": "2023-04-27T11:41:31.156Z"
   },
   {
    "duration": 27,
    "start_time": "2023-04-27T11:41:31.211Z"
   },
   {
    "duration": 46,
    "start_time": "2023-04-27T11:41:31.240Z"
   },
   {
    "duration": 43,
    "start_time": "2023-04-27T11:41:31.289Z"
   },
   {
    "duration": 43,
    "start_time": "2023-04-27T11:41:31.334Z"
   },
   {
    "duration": 19,
    "start_time": "2023-04-27T11:41:58.024Z"
   },
   {
    "duration": 17,
    "start_time": "2023-04-27T11:42:01.743Z"
   },
   {
    "duration": 14,
    "start_time": "2023-04-27T11:42:06.936Z"
   },
   {
    "duration": 26,
    "start_time": "2023-04-27T11:42:10.896Z"
   },
   {
    "duration": 21,
    "start_time": "2023-04-27T11:42:23.426Z"
   },
   {
    "duration": 4,
    "start_time": "2023-04-27T11:42:25.569Z"
   },
   {
    "duration": 397,
    "start_time": "2023-04-27T11:42:57.565Z"
   },
   {
    "duration": 17,
    "start_time": "2023-04-27T11:43:04.515Z"
   },
   {
    "duration": 22,
    "start_time": "2023-04-27T11:43:07.123Z"
   },
   {
    "duration": 366,
    "start_time": "2023-04-27T11:43:09.768Z"
   },
   {
    "duration": 235,
    "start_time": "2023-04-27T11:43:28.220Z"
   },
   {
    "duration": 15,
    "start_time": "2023-04-27T11:43:30.450Z"
   },
   {
    "duration": 40,
    "start_time": "2023-04-27T11:43:32.978Z"
   },
   {
    "duration": 8,
    "start_time": "2023-04-27T11:43:35.287Z"
   },
   {
    "duration": 105,
    "start_time": "2023-04-27T11:43:39.540Z"
   },
   {
    "duration": 1361,
    "start_time": "2023-04-27T19:52:38.175Z"
   },
   {
    "duration": 291,
    "start_time": "2023-04-27T19:52:39.540Z"
   },
   {
    "duration": 16,
    "start_time": "2023-04-27T19:52:39.832Z"
   },
   {
    "duration": 33,
    "start_time": "2023-04-27T19:52:39.851Z"
   },
   {
    "duration": 5,
    "start_time": "2023-04-27T19:52:39.886Z"
   },
   {
    "duration": 104,
    "start_time": "2023-04-27T19:52:39.895Z"
   },
   {
    "duration": 119,
    "start_time": "2023-04-27T19:52:40.001Z"
   },
   {
    "duration": 218,
    "start_time": "2023-04-27T19:52:40.123Z"
   },
   {
    "duration": 23,
    "start_time": "2023-04-27T19:52:40.343Z"
   },
   {
    "duration": 61,
    "start_time": "2023-04-27T19:52:40.370Z"
   },
   {
    "duration": 10,
    "start_time": "2023-04-27T19:52:40.439Z"
   },
   {
    "duration": 30,
    "start_time": "2023-04-27T19:52:40.451Z"
   },
   {
    "duration": 41,
    "start_time": "2023-04-27T19:52:40.483Z"
   },
   {
    "duration": 16,
    "start_time": "2023-04-27T19:52:40.526Z"
   },
   {
    "duration": 347,
    "start_time": "2023-04-27T19:52:40.544Z"
   },
   {
    "duration": 48,
    "start_time": "2023-04-27T19:52:40.893Z"
   },
   {
    "duration": 95,
    "start_time": "2023-04-27T19:52:40.944Z"
   },
   {
    "duration": 32,
    "start_time": "2023-04-27T19:52:41.042Z"
   },
   {
    "duration": 65,
    "start_time": "2023-04-27T19:52:41.076Z"
   },
   {
    "duration": 60,
    "start_time": "2023-04-27T19:52:41.143Z"
   },
   {
    "duration": 76,
    "start_time": "2023-04-27T19:52:41.212Z"
   },
   {
    "duration": 53,
    "start_time": "2023-04-27T19:52:41.290Z"
   },
   {
    "duration": 123,
    "start_time": "2023-04-27T19:52:41.345Z"
   },
   {
    "duration": 17,
    "start_time": "2023-04-27T19:52:41.470Z"
   },
   {
    "duration": 22,
    "start_time": "2023-04-27T19:52:41.489Z"
   },
   {
    "duration": 30,
    "start_time": "2023-04-27T19:52:41.518Z"
   },
   {
    "duration": 432,
    "start_time": "2023-04-27T19:52:41.550Z"
   },
   {
    "duration": 62,
    "start_time": "2023-04-27T19:52:41.988Z"
   },
   {
    "duration": 102,
    "start_time": "2023-04-27T19:52:42.053Z"
   },
   {
    "duration": 122,
    "start_time": "2023-04-27T19:52:42.157Z"
   },
   {
    "duration": 17,
    "start_time": "2023-04-27T19:52:42.293Z"
   },
   {
    "duration": 18,
    "start_time": "2023-04-27T19:52:42.313Z"
   },
   {
    "duration": 20,
    "start_time": "2023-04-27T19:52:42.332Z"
   },
   {
    "duration": 13,
    "start_time": "2023-04-27T19:52:42.357Z"
   },
   {
    "duration": 19,
    "start_time": "2023-04-27T19:52:42.372Z"
   },
   {
    "duration": 41,
    "start_time": "2023-04-27T19:52:42.398Z"
   },
   {
    "duration": 17,
    "start_time": "2023-04-27T19:52:42.443Z"
   },
   {
    "duration": 18,
    "start_time": "2023-04-27T19:52:42.466Z"
   },
   {
    "duration": 49,
    "start_time": "2023-04-27T19:52:42.487Z"
   },
   {
    "duration": 4,
    "start_time": "2023-04-27T19:52:42.538Z"
   },
   {
    "duration": 80,
    "start_time": "2023-04-28T06:08:12.522Z"
   }
  ],
  "kernelspec": {
   "display_name": "Python 3 (ipykernel)",
   "language": "python",
   "name": "python3"
  },
  "language_info": {
   "codemirror_mode": {
    "name": "ipython",
    "version": 3
   },
   "file_extension": ".py",
   "mimetype": "text/x-python",
   "name": "python",
   "nbconvert_exporter": "python",
   "pygments_lexer": "ipython3",
   "version": "3.9.13"
  },
  "toc": {
   "base_numbering": 1,
   "nav_menu": {},
   "number_sections": true,
   "sideBar": true,
   "skip_h1_title": true,
   "title_cell": "Table of Contents",
   "title_sidebar": "Contents",
   "toc_cell": false,
   "toc_position": {},
   "toc_section_display": true,
   "toc_window_display": false
  }
 },
 "nbformat": 4,
 "nbformat_minor": 5
}
